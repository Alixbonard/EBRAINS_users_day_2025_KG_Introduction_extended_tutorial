{
 "cells": [
  {
   "cell_type": "markdown",
   "metadata": {},
   "source": [
    "# The EBRAINS Knowledge Graph​\n",
    "\n",
    "### Introductory tutorial\n",
    "\n",
    "Alix E.Bonard, Laura Morel, Peyman Najafi and Andrew P. Davison \n",
    "\n",
    "NeuroPSI Paris-Saclay Institute of Neuroscience, CNRS, Université Paris-Saclay, France.\n"
   ]
  },
  {
   "cell_type": "markdown",
   "metadata": {},
   "source": [
    "**Remarks: The EBRAINS Knowledge Graph team needs feedbacks. If you have any feedback on the use of the EBRAINS Knowledge Graph, any ideas to create a user-friendly platform that fits your use, please let us know at kg@ebrains.eu**"
   ]
  },
  {
   "cell_type": "markdown",
   "metadata": {},
   "source": [
    "## 1. Introduction\n",
    "\n"
   ]
  },
  {
   "cell_type": "markdown",
   "metadata": {},
   "source": [
    "The  [EBRAINS Knowledge Graph](https://docs.kg.ebrains.eu/) is the metadata management system of [EBRAINS](https://www.ebrains.eu/) providing a free database, softwares and tools for brain-related research.\n",
    "\n",
    "In this tutorial, we will learn how to search and download a dataset with [EBRAINS Knowledge Graph Search](https://search.kg.ebrains.eu). Then, we will programmatically retrieve datasets and their metadata with the Python library [fairgraph](https://github.com/HumanBrainProject/fairgraph). Finally, we will explain how metadata is organized in EBRAINS and how to use them.\n",
    "\n",
    "The first part of this tutorial is guided, the second part is in autonomy. For any additional question after the presentation, you can create issues on the [Github](https://github.com/Alixbonard/EBRAINS_users_day_2025_KG_Introduction_extended_tutorial)."
   ]
  },
  {
   "cell_type": "markdown",
   "metadata": {},
   "source": [
    "Abbreviations :\n",
    "\n",
    "KG = EBRAINS Knowledge Graph\n",
    "\n",
    "[KG search](https://search.kg.ebrains.eu) = EBRAINS Knowledge Graph Search\n",
    "\n",
    "[KG Editor](https://editor.kg.ebrains.eu/) = EBRAINS Knowlegde Graph Editor "
   ]
  },
  {
   "cell_type": "markdown",
   "metadata": {},
   "source": [
    "## 2. Searching a dataset with EBRAINS Knowledge Graph Search (KG search)\n"
   ]
  },
  {
   "cell_type": "markdown",
   "metadata": {},
   "source": [
    "The KG Search is a digital plateform where you can have a direct access to EBRAINS datasets from different studies with and without publications. You can download datasets directly from the website and have an overview of their metadata. \n",
    "\n",
    "You can use filters to refine your dataset/ model/ software searches. For each dataset, you can find a data descriptor that describe the data, folder organisation and experimental methods, references, research context. \n",
    "\n",
    "\n",
    "To have a first contact with the [KG Search](https://search.kg.ebrains.eu/), try to search a dataset related to electrophysiological properties of CA1 pyramidal neurons in mouse model of Alzheimer's Disease. \n",
    "\n",
    "\n",
    "With these constraints, you should find [this dataset](https://search.kg.ebrains.eu/?category=Dataset&q=HPY#bd5f91ff-e829-4b85-92eb-fc56991541f1).\n"
   ]
  },
  {
   "cell_type": "markdown",
   "metadata": {},
   "source": [
    "**A space just for your notes**:    "
   ]
  },
  {
   "cell_type": "markdown",
   "metadata": {},
   "source": []
  },
  {
   "cell_type": "markdown",
   "metadata": {},
   "source": [
    "## 3. Retrieving a dataset in a Jupyter notebook with the Fairgraph library"
   ]
  },
  {
   "cell_type": "markdown",
   "metadata": {},
   "source": [
    "\"Fairgraph is a Python library for working with metadata in the EBRAINS Knowledge Graph, with a particular focus on data reuse\" (Davison et al.,2019-2024-[fairgraph documentation](https://github.com/HumanBrainProject/fairgraph))\n",
    "\n",
    "\n",
    "\n"
   ]
  },
  {
   "cell_type": "markdown",
   "metadata": {},
   "source": [
    "### **Client and authentication token**\n"
   ]
  },
  {
   "cell_type": "markdown",
   "metadata": {},
   "source": [
    "\n",
    "In order to interact with the KG, we need a client (object KGClient in fairgraph). This client will need an EBRAINS authentification token.\n",
    "\n",
    "Two methods are described below to have access to this token thus the kg_client.\n",
    "It is possible to run this code in an [EBRAINS collab](https://wiki.ebrains.eu/), the [EBRAINS JupyterLab](https://lab.ebrains.eu/) or in a local system (e.g. your computer).\n"
   ]
  },
  {
   "cell_type": "markdown",
   "metadata": {},
   "source": [
    "1. #### Client with: JupyterLab "
   ]
  },
  {
   "cell_type": "code",
   "execution_count": null,
   "metadata": {},
   "outputs": [],
   "source": [
    "from fairgraph import KGClient\n",
    "\n",
    "kg_client = KGClient(host=\"core.kg.ebrains.eu\", token=clb_oauth.get_token()) # if you don't run this notebook on EBRAINS remove `token=clb_oauth.get_token()`"
   ]
  },
  {
   "cell_type": "markdown",
   "metadata": {},
   "source": [
    "2. #### Client with: Local system"
   ]
  },
  {
   "cell_type": "markdown",
   "metadata": {},
   "source": [
    "You can have access to your token in the [KG Editor](https://editor.kg.ebrains.eu/) in your profile button (copy token to clipboard)"
   ]
  },
  {
   "cell_type": "code",
   "execution_count": null,
   "metadata": {},
   "outputs": [],
   "source": [
    "# If you don't use the EBRAINS environment, you need to setup Fairgraph yourself. For example in a local terminal: \n",
    "\n",
    "# cd </path/to/tutorial/folder> # change the directory where the tutorial file is saved.\n",
    "# export KG_AUTH_TOKEN=<paste the token> (e.g. 'eyJhbGci...nPq') \n",
    "# \n",
    "\n",
    "# pip install fairgraph # to install fairgraph in your python environment \n",
    "\n",
    "# in your jupyter notebook:\n",
    "\n",
    "# from fairgraph import KGClient\n",
    "# import os \n",
    "\n",
    "#kg_token = os.environ['KG_AUTH_TOKEN'] \n",
    "#kg_client = KGClient(host=\"core.kg.ebrains.eu\",token=kg_token) \n",
    "\n",
    "# alternative approach 1:\n",
    "# run in an another cell - get the token everytime you need \n",
    "# kg_token = KGClient(host='core.kg.ebrains.eu').user_info()\n",
    "\n",
    "# alternative approach 2: \n",
    "# copy your token from the KG Editor directly in the jupyter notebook as below\n",
    "# kg_token = \"yourtoken\"\n",
    "# kg_client = KGClient(host=\"core.kg.ebrains.eu\",token=kg_token) \n"
   ]
  },
  {
   "cell_type": "markdown",
   "metadata": {},
   "source": [
    "**A space just for your notes**: \n"
   ]
  },
  {
   "cell_type": "markdown",
   "metadata": {},
   "source": []
  },
  {
   "cell_type": "markdown",
   "metadata": {},
   "source": [
    "### **Retrieving the dataset**"
   ]
  },
  {
   "cell_type": "markdown",
   "metadata": {},
   "source": [
    "\n",
    "Once your client is set up, you can download any dataset displayed in the KG using fairgraph. Here are several methods to download datasets in a jupyter notebook. We will focus on the dataset found above as an example.\n",
    "Thanks to fairgraph, you can have access to the dataset metadata using `Dataset` or` DatasetVersion`.\n",
    "Let's explore dataset metadata:"
   ]
  },
  {
   "cell_type": "markdown",
   "metadata": {},
   "source": [
    "#### 1. using the dataset name."
   ]
  },
  {
   "cell_type": "markdown",
   "metadata": {},
   "source": [
    "You can use the dataset name to retrieve metadata using the method `by_name` of  `Dataset` or `DatasetVersion` with the dataset name and a KGClientinstance as arguments."
   ]
  },
  {
   "cell_type": "code",
   "execution_count": null,
   "metadata": {},
   "outputs": [],
   "source": [
    "from fairgraph.openminds.core import Dataset \n",
    "dataset = Dataset.by_name('Excitability profile of CA1 pyramidal neurons in APPPS1 Alzheimer disease mice and control littermates', kg_client) \n",
    "dataset.show()"
   ]
  },
  {
   "cell_type": "code",
   "execution_count": null,
   "metadata": {},
   "outputs": [],
   "source": [
    "from fairgraph.openminds.core import DatasetVersion # One dataset could have several version depending on authors modifications. Each version has its own identifier\n",
    "\n",
    "dataset_version = DatasetVersion.by_name('Excitability profile of CA1 pyramidal neurons in APPPS1 Alzheimer disease mice and control littermates', kg_client)\n",
    "dataset_version.show()"
   ]
  },
  {
   "cell_type": "markdown",
   "metadata": {},
   "source": [
    "As a result and depending on the use of Dataset or DatasetVersion, you access different metadata.\n",
    "With Dataset, you have access to the id of the instance that your are looking for, which is the dataset \"Excitability profile of CA1 pyramidal neurons in APPPS1 Alzheimer disease mice and control littermates\". The type corresonds to the openMINDS instance type. Authors, description, full_name and short_name are the metadata related to the Dataset. Has_version informs you how many versions are link to the dataset \"Excitability profile of CA1 pyramidal neurons in APPPS1 Alzheimer disease mice and control littermates\". For some metadata like authors, the explicit information is not displayed. It is possible to reveal it with the use of OpenMINDS schemas or resolve property. For more explanation and examples, go to the part `Exploring dataset metadata`\n",
    "\n",
    "With `DatasetVersion`, you have access to the metadata of a specific version of a dataset. As with `Dataset`, you have the id, space,short_name, full_name, description. In addition you have metadata about the publication, the techniques and experimental approaches and metada link to KG storage. As explained above, some metadata are explicitly shown and easy to access whereas others like digital_identifier i.e. DOI, are indicated as available on the KG and can be revealed with the use of OpenMINDS schemas or resolve property."
   ]
  },
  {
   "cell_type": "markdown",
   "metadata": {},
   "source": [
    "**A space just for your notes** "
   ]
  },
  {
   "cell_type": "markdown",
   "metadata": {},
   "source": [
    "#### 2. using the ID"
   ]
  },
  {
   "cell_type": "markdown",
   "metadata": {},
   "source": [
    "In the EBRAINS Knowledge Graph, each object has its own unique id. This id can be find in the KG editor at the end of each instance information panel or in the url (e.g https://editor.kg.ebrains.eu/instances/bd5f91ff-e829-4b85-92eb-fc56991541f1 -> id = bd5f91ff-e829-4b85-92eb-fc56991541f1 ).\n",
    "Warnings: Dataset and DatasetVersion are two differents objects, thus there are two different ids.\n",
    "\n",
    "To retrieve the metadata using ID, you must use the function `from_id` with the instance id and the kg_client as argument"
   ]
  },
  {
   "cell_type": "code",
   "execution_count": null,
   "metadata": {},
   "outputs": [],
   "source": [
    "dataset = Dataset.from_id('65b1b9a3-af50-4c9c-a4e6-7556bc700da0', kg_client) \n",
    "dataset.show()"
   ]
  },
  {
   "cell_type": "code",
   "execution_count": null,
   "metadata": {},
   "outputs": [],
   "source": [
    "dataset_version = DatasetVersion.from_id('bd5f91ff-e829-4b85-92eb-fc56991541f1', kg_client)\n",
    "dataset_version.show()"
   ]
  },
  {
   "cell_type": "markdown",
   "metadata": {},
   "source": [
    "**A space just for your notes** "
   ]
  },
  {
   "cell_type": "markdown",
   "metadata": {},
   "source": [
    "#### 3. using the DOI"
   ]
  },
  {
   "cell_type": "markdown",
   "metadata": {},
   "source": [
    "You can use the DOI, to retrieve the dataset. This DOI is different from publication DOI\n",
    "To retrieve it, run this fairgraph query: `DatasetVersion.list(kg_client,digital_identifier__identifier=\"10.25493/YJFW-HPY\")`\n",
    "\n",
    "Further in this tutorial, you will be introduce to simple fairgraph queries as this one below. "
   ]
  },
  {
   "cell_type": "code",
   "execution_count": null,
   "metadata": {},
   "outputs": [],
   "source": [
    "# DatasetVersion.list(kg_client,digital_identifier__identifier=\"10.25493/YJFW-HPY\") returns a list. \n",
    "# In order to access metadata, you have to select on element of the list as display below:  \n",
    "\n",
    "dataset_version = DatasetVersion.list(kg_client,digital_identifier__identifier=\"10.25493/YJFW-HPY\")[0] \n",
    "dataset_version.show()"
   ]
  },
  {
   "cell_type": "markdown",
   "metadata": {},
   "source": [
    "### **Downloading the dataset**"
   ]
  },
  {
   "cell_type": "markdown",
   "metadata": {},
   "source": [
    "Once the dataset retrieved in a fairgraph object, you can download the all dataset into your local system (your working directory for example) you can use the property `download`. \n",
    "To do so, you have to define your `local_path`. Then, you must use download property with the local_path, the kg_client as arguments. You must accept the terms of use as shown below. "
   ]
  },
  {
   "cell_type": "code",
   "execution_count": null,
   "metadata": {},
   "outputs": [],
   "source": [
    "# Get your local path\n",
    "import os \n",
    "\n",
    "local_path = os.path.abspath('path/to/download/directory')\n",
    "# or\n",
    "local_path = os.getcwd() # get the working directory\n"
   ]
  },
  {
   "cell_type": "code",
   "execution_count": null,
   "metadata": {},
   "outputs": [],
   "source": [
    "dataset_version.download(local_path='...', client=kg_client, accept_terms_of_use=True)"
   ]
  },
  {
   "cell_type": "markdown",
   "metadata": {},
   "source": [
    "**A space just for your notes**: "
   ]
  },
  {
   "cell_type": "markdown",
   "metadata": {},
   "source": [
    "### **Exploring dataset metadata**"
   ]
  },
  {
   "cell_type": "markdown",
   "metadata": {},
   "source": [
    "Finding the right dataset for a study and exploring it takes time. Indeed, exploring file content, understanding how a folder is structured and if data correspond to what you looking for is time consuming. Using metadata could reduce this time process by optimizing the search. \n",
    "In this part, you will explore metadata and files of a dataset without needing to download the dataset with fairgraph library.\n",
    "\n",
    "Here are some ways to retrieve relevant metadata that can facilitate your search of a dataset."
   ]
  },
  {
   "cell_type": "markdown",
   "metadata": {},
   "source": [
    "#### Authors"
   ]
  },
  {
   "cell_type": "markdown",
   "metadata": {},
   "source": [
    "In the previous part, you learned how to retrieve a dataset with `Dataset` or `DatasetVersion` presenting explicit and non-explicit metadata. Here you will learn how to explicit them. To explicitly retrieve authors you have to use the argument `follow_links`. When you fetch a dataset with Dataset or DatatsetVersion, you fetch default nodes (i.e. explicit metadata), with follow_link you add more nodes. Thereby, you can access the target metadata. Let's try with authors: \n",
    "\n",
    "You want to retrieve the names of the dataset's authors. By consulting the [Dataset schema specifications](https://openminds-documentation.readthedocs.io/en/latest/schema_specifications/core/products/dataset.html#dataset) in the openMINDS documentation, you can see which link you need to follow to obtain that piece of information.\n"
   ]
  },
  {
   "cell_type": "code",
   "execution_count": null,
   "metadata": {},
   "outputs": [],
   "source": [
    "# Retrieve the dataset object: \n",
    "dataset = Dataset.by_name('Excitability profile of CA1 pyramidal neurons in APPPS1 Alzheimer disease mice and control littermates', kg_client, follow_links={\"authors\": {\"Person\": {}}})\n",
    "print(f'This dataset has {len(dataset.authors)} authors. {dataset.authors[0].family_name} {dataset.authors[0].given_name} and  {dataset.authors[1].family_name} {dataset.authors[1].given_name}')\n"
   ]
  },
  {
   "cell_type": "markdown",
   "metadata": {},
   "source": [
    "#### Datafiles"
   ]
  },
  {
   "cell_type": "markdown",
   "metadata": {},
   "source": [
    "Let's try again with files linked to this Dataset. "
   ]
  },
  {
   "cell_type": "code",
   "execution_count": null,
   "metadata": {},
   "outputs": [],
   "source": [
    "dataset_version = DatasetVersion.by_name('Excitability profile of CA1 pyramidal neurons in APPPS1 Alzheimer disease mice and control littermates', kg_client, follow_links={\"repository\": {\"files\": {}}})\n",
    "\n",
    "files_iri = []\n",
    "files_name = []\n",
    "for file in dataset_version.repository.files:\n",
    "    files_iri.append(file.iri)\n",
    "    files_name.append(file.name)\n",
    "\n",
    "print(f'This tutorial has {len(files_iri)} files including {len([datafile for datafile in files_iri if 'abf' in str(datafile)])} files with the abf extension.')"
   ]
  },
  {
   "cell_type": "markdown",
   "metadata": {},
   "source": [
    "#### Publication"
   ]
  },
  {
   "cell_type": "markdown",
   "metadata": {},
   "source": [
    "You have another method to retrieve metadata by using `resolve` and `follow_links`. \n",
    "With follow_link you select the target node (related_publication). Then, you select an information linked to the related_publication. Here, you can retrieve the publication DOI."
   ]
  },
  {
   "cell_type": "code",
   "execution_count": null,
   "metadata": {},
   "outputs": [],
   "source": [
    "dataset_version = DatasetVersion.by_name('Excitability profile of CA1 pyramidal neurons in APPPS1 Alzheimer disease mice and control littermates', kg_client, follow_links={\"relatedPublication\": {}}) \n",
    "related_publication_ = dataset_version.related_publications\n",
    "related_publication_.resolve(kg_client).identifier"
   ]
  },
  {
   "cell_type": "markdown",
   "metadata": {},
   "source": [
    "**Exercise**: Let's do the same for the dataset DOI, Experimental approaches, study targets and studies specimens"
   ]
  },
  {
   "cell_type": "markdown",
   "metadata": {},
   "source": [
    "#### DOI"
   ]
  },
  {
   "cell_type": "code",
   "execution_count": null,
   "metadata": {},
   "outputs": [],
   "source": [
    "dataset_version = DatasetVersion.by_name('Excitability profile of CA1 pyramidal neurons in APPPS1 Alzheimer disease mice and control littermates', kg_client, follow_links={\"digitalIdentifier\": {\"DOI\":{}}}) #\n",
    "dataset_doi = dataset_version.digital_identifier\n",
    "dataset_doi.resolve(kg_client).identifier"
   ]
  },
  {
   "cell_type": "markdown",
   "metadata": {},
   "source": [
    "#### Experimental Approach"
   ]
  },
  {
   "cell_type": "code",
   "execution_count": null,
   "metadata": {},
   "outputs": [],
   "source": [
    "dataset_version = DatasetVersion.by_name('Excitability profile of CA1 pyramidal neurons in APPPS1 Alzheimer disease mice and control littermates', kg_client, follow_links={\"experimental_approaches \": {}}) #\n",
    "dataset_version.experimental_approaches.resolve(kg_client).name"
   ]
  },
  {
   "cell_type": "markdown",
   "metadata": {},
   "source": [
    "#### Techniques"
   ]
  },
  {
   "cell_type": "code",
   "execution_count": null,
   "metadata": {},
   "outputs": [],
   "source": [
    "dataset_version = DatasetVersion.by_name('Excitability profile of CA1 pyramidal neurons in APPPS1 Alzheimer disease mice and control littermates', kg_client, follow_links={\"techniques\": {}}) #\n",
    "print(dataset_version.techniques[0].name)"
   ]
  },
  {
   "cell_type": "markdown",
   "metadata": {},
   "source": [
    "#### Studied Specimens"
   ]
  },
  {
   "cell_type": "code",
   "execution_count": null,
   "metadata": {},
   "outputs": [],
   "source": [
    "dataset_version = DatasetVersion.by_name('Excitability profile of CA1 pyramidal neurons in APPPS1 Alzheimer disease mice and control littermates', kg_client, follow_links={\"studied_specimens\": {}}) #\n",
    "studies_specimens = dataset_version.studied_specimens\n",
    "for specimens in studies_specimens: \n",
    "    print(specimens.species.resolve(kg_client).name)\n",
    "    print(specimens.lookup_label)\n"
   ]
  },
  {
   "cell_type": "markdown",
   "metadata": {},
   "source": [
    "**A space just for your notes**: "
   ]
  },
  {
   "cell_type": "markdown",
   "metadata": {},
   "source": []
  },
  {
   "cell_type": "markdown",
   "metadata": {},
   "source": [
    "## 4. Finding datasets with fairgraph queries: a brief introduction "
   ]
  },
  {
   "cell_type": "markdown",
   "metadata": {},
   "source": [
    "*This part is a brief introduction to queries. Please see the tutorial EBRAINS Knowledge Graph Advanced for more information.*\n",
    "One other use of Fairgraph library is the Queries. Queries are useful if you need to search a dataset using filters. \n",
    "As presented above, you can use `DatasetVerison` to obtain a list of potential datasets of interest. For more information you can consult this [link](https://fairgraph.readthedocs.io/en/latest/queries.html)\n",
    "\n",
    "Let's see an example.\n",
    "\n",
    "Run this cell to obtain datasets having \"neurons\" in their name: "
   ]
  },
  {
   "cell_type": "code",
   "execution_count": null,
   "metadata": {},
   "outputs": [],
   "source": [
    "datasets = DatasetVersion.list(kg_client, name=\"neurons\") \n",
    "for dataset in datasets: \n",
    "    print(dataset.name)"
   ]
  },
  {
   "cell_type": "markdown",
   "metadata": {},
   "source": [
    "Let's try \"patch-clamp\" technique:"
   ]
  },
  {
   "cell_type": "code",
   "execution_count": null,
   "metadata": {},
   "outputs": [],
   "source": [
    "datasets = DatasetVersion.list(kg_client, name=\"patch-clamp\") \n",
    "for dataset in datasets: \n",
    "    print(dataset.name)"
   ]
  },
  {
   "cell_type": "markdown",
   "metadata": {},
   "source": [
    "As you see, you can obtain datasets corresponding to your filter. Fairgrap library is still in development, so queries may not run properly. You can use the [EBRAINS query builder](https://query.kg.ebrains.eu/) to directly build queries and run them on the KG. For more information regarding this tool, click [here](https://docs.kg.ebrains.eu/)."
   ]
  },
  {
   "cell_type": "markdown",
   "metadata": {},
   "source": [
    "**A space just for your notes**: "
   ]
  },
  {
   "cell_type": "markdown",
   "metadata": {},
   "source": []
  },
  {
   "cell_type": "markdown",
   "metadata": {},
   "source": [
    "## 5. Exercise in autonomy"
   ]
  },
  {
   "cell_type": "markdown",
   "metadata": {},
   "source": [
    "For this last part, you will have to reproduce what you have learned in the previous parts. Remember that you can look up schema specifications on the [openMINDS documentation](https://openminds-documentation.readthedocs.io).\n",
    "\n",
    "List of dataset: \n",
    "\n",
    "- 10.25493/YJFW-HPY\n",
    "- 10.25493/VAV5-BXU\n",
    "- 10.25493/CHJG-7QC\n",
    "- 10.25493/M1AQ-3AC\n",
    "- 10.25493/M1V0-WE3\n",
    "- 10.25493/3NTS-Q0B\n",
    "- 10.25493/JNFA-HDP\n",
    "- 10.25493/5GE0-6MF\n"
   ]
  },
  {
   "cell_type": "markdown",
   "metadata": {},
   "source": [
    "#### 1. Exercise: Use fairgraph query to find a dataset of interest"
   ]
  },
  {
   "cell_type": "markdown",
   "metadata": {},
   "source": [
    "#### 2. Exercise: Explore the dataset metadata. Can you retrieve the authors? See if there is more datasetversion? Retrieve the date of publication? The publication DOI? You can start with these questions and explore more relevant metadata "
   ]
  },
  {
   "cell_type": "markdown",
   "metadata": {},
   "source": [
    "#### 3. Exercise: Retrieve dataset files. Can you obtain the name of each file? "
   ]
  },
  {
   "cell_type": "markdown",
   "metadata": {},
   "source": [
    "#### 4. Exercise: Download the dataset"
   ]
  },
  {
   "cell_type": "markdown",
   "metadata": {},
   "source": [
    "## 6. Conclusion"
   ]
  },
  {
   "cell_type": "markdown",
   "metadata": {},
   "source": [
    "This jupyter notebook is part of the learning material for the EBRAINS users day in Heidelberg, Germany. This is an open introductory ressource presenting the use of Ebrains Knowlegde Graph and open science tools like Fairgraph library and OpenMINDS schemas. Throughout this tutorial, you have learn how to search on the EBRAINS search website, how to find your authorization token for creating your kg_client, important for using Fairgraph. You also learnt how to use the EBRAINS jupyter lab and how to git clone from GitHub repository. You have been introduce to in-depth metadata and queries search. This tutorial is a part of three tutorials about the EBRAINS Knowledge Graph and its uses. Two others tutorials, extended and advanced follow this tutorial. "
   ]
  }
 ],
 "metadata": {
  "kernelspec": {
   "display_name": "EBRAINS-24.04",
   "language": "python",
   "name": "ebrains-24.04"
  },
  "language_info": {
   "codemirror_mode": {
    "name": "ipython",
    "version": 3
   },
   "file_extension": ".py",
   "mimetype": "text/x-python",
   "name": "python",
   "nbconvert_exporter": "python",
   "pygments_lexer": "ipython3",
   "version": "3.8.13"
  }
 },
 "nbformat": 4,
 "nbformat_minor": 4
}
