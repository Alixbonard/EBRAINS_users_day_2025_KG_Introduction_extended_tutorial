{
 "cells": [
  {
   "cell_type": "markdown",
   "metadata": {},
   "source": [
    "# The EBRAINS Knowledge Graph​\n",
    "\n",
    "### Introductory tutorial\n",
    "\n",
    "Alix E.Bonard, Laura Morel, Peyman Najafi and Andrew P. Davison \n",
    "\n",
    "Paris-Saclay Institute of Neuroscience, CNRS, Université Paris-Saclay, France.\n"
   ]
  },
  {
   "cell_type": "markdown",
   "metadata": {},
   "source": [
    "**Remarks: The EBRAINS Knowledge Graph team needs feedbacks. If you have any feedback on the use of the EBRAINS Knowledge Graph, any ideas to create a user-friendly platform that fits your use, please let us know at kg@ebrains.eu**"
   ]
  },
  {
   "cell_type": "markdown",
   "metadata": {},
   "source": [
    "## 1. Introduction\n",
    "\n"
   ]
  },
  {
   "cell_type": "markdown",
   "metadata": {},
   "source": [
    "The  [EBRAINS Knowledge Graph](https://docs.kg.ebrains.eu/) is the metadata management system of [EBRAINS](https://www.ebrains.eu/) providing a free database, softwares and tools for brain-related research.\n",
    "\n",
    "In this tutorial, we will learn how to search and download a dataset with [EBRAINS Knowledge Graph Search](https://search.kg.ebrains.eu). Then, we will programmatically retrieve datasets and their metadata with the Python library [fairgraph](https://github.com/HumanBrainProject/fairgraph). Finally, we will explain how metadata is organized in EBRAINS and how to use them.\n",
    "\n",
    "The first part of this tutorial is guided, the second part is in autonomy. For any additional question after the presentation, you can create issues on the [Github](https://github.com/Alixbonard/EBRAINS_users_day_2025_KG_Introduction_extended_tutorial)."
   ]
  },
  {
   "cell_type": "markdown",
   "metadata": {},
   "source": [
    "Abbreviations :\n",
    "\n",
    "KG = EBRAINS Knowledge Graph\n",
    "\n",
    "[KG search](https://search.kg.ebrains.eu) = EBRAINS Knowledge Graph Search\n",
    "\n",
    "[KG Editor](https://editor.kg.ebrains.eu/) = EBRAINS Knowlegde Graph Editor "
   ]
  },
  {
   "cell_type": "markdown",
   "metadata": {},
   "source": [
    "## 2. Searching a dataset with EBRAINS Knownledge Graph Search (KG search)\n"
   ]
  },
  {
   "cell_type": "markdown",
   "metadata": {},
   "source": [
    "The KG Search is a digital plateform where you can have a direct access to EBRAINS datasets from different studies with and without publications. You can download datasets directly from the website and have an overview of their metadata. \n",
    "\n",
    "You can use filters to refine your dataset/ model/ software searches. For each dataset, you can find a data descriptor that describe the data, folder organisation and experimental methods, references, research context. \n",
    "\n",
    "\n",
    "To have a first contact with the [KG Search](https://search.kg.ebrains.eu/), try to search a dataset related to electrophysiological properties of CA1 pyramidal neurons in mouse model of Alzheimer's Disease. \n",
    "\n",
    "\n",
    "With these constraints, you should find [this dataset](https://search.kg.ebrains.eu/?category=Dataset&q=HPY#bd5f91ff-e829-4b85-92eb-fc56991541f1).\n"
   ]
  },
  {
   "cell_type": "markdown",
   "metadata": {},
   "source": [
    "**A space just for your notes**:    "
   ]
  },
  {
   "cell_type": "markdown",
   "metadata": {},
   "source": []
  },
  {
   "cell_type": "markdown",
   "metadata": {},
   "source": [
    "## 3. Retrieving a dataset in a Jupyter notebook with the Fairgraph library"
   ]
  },
  {
   "cell_type": "markdown",
   "metadata": {},
   "source": [
    "\"Fairgraph is a Python library for working with metadata in the EBRAINS Knowledge Graph, with a particular focus on data reuse\" (Davison et al.,2019-2024-[fairgraph documentation](https://github.com/HumanBrainProject/fairgraph))\n",
    "\n",
    "\n",
    "\n"
   ]
  },
  {
   "cell_type": "markdown",
   "metadata": {},
   "source": [
    "### **Client and authentification token**\n"
   ]
  },
  {
   "cell_type": "markdown",
   "metadata": {},
   "source": [
    "\n",
    "In order to interact with the KG, we need a client (object KGClient in fairgraph). This client will need an EBRAINS authentification token.\n",
    "\n",
    "Two methods are described below to have access to this token thus the kg_client.\\\n",
    "It is possible to run this code in an [EBRAINS collab](https://wiki.ebrains.eu/), the [EBRAINS JupyterLab](https://lab.ebrains.eu/) or in a local system (e.g. your computer). \\\n"
   ]
  },
  {
   "cell_type": "markdown",
   "metadata": {},
   "source": [
    "1. #### Client with: JupyterLab "
   ]
  },
  {
   "cell_type": "code",
   "execution_count": null,
   "metadata": {},
   "outputs": [],
   "source": [
    "from fairgraph import KGClient\n",
    "\n",
    "kg_client = KGClient(host=\"core.kg.ebrains.eu\") # if you want to have access to your EBRAINS token `token=clb_oauth.get_token()`"
   ]
  },
  {
   "cell_type": "markdown",
   "metadata": {},
   "source": [
    "2. #### Client with: Local system"
   ]
  },
  {
   "cell_type": "markdown",
   "metadata": {},
   "source": [
    "You can have access to your token in the [KG Editor](https://editor.kg.ebrains.eu/) in your profile button (copy token to clipboard)"
   ]
  },
  {
   "cell_type": "code",
   "execution_count": 30,
   "metadata": {},
   "outputs": [
    {
     "name": "stdout",
     "output_type": "stream",
     "text": [
      "Requirement already satisfied: fairgraph in /home/abonard/anaconda3/envs/in-depth/lib/python3.12/site-packages (0.12.2)\n",
      "Requirement already satisfied: ebrains-kg-core in /home/abonard/anaconda3/envs/in-depth/lib/python3.12/site-packages (from fairgraph) (0.9.20)\n",
      "Requirement already satisfied: python-dateutil in /home/abonard/anaconda3/envs/in-depth/lib/python3.12/site-packages (from fairgraph) (2.9.0.post0)\n",
      "Requirement already satisfied: tabulate in /home/abonard/anaconda3/envs/in-depth/lib/python3.12/site-packages (from fairgraph) (0.9.0)\n",
      "Requirement already satisfied: requests in /home/abonard/anaconda3/envs/in-depth/lib/python3.12/site-packages (from fairgraph) (2.32.3)\n",
      "Requirement already satisfied: pydantic in /home/abonard/anaconda3/envs/in-depth/lib/python3.12/site-packages (from ebrains-kg-core->fairgraph) (2.10.4)\n",
      "Requirement already satisfied: six>=1.5 in /home/abonard/anaconda3/envs/in-depth/lib/python3.12/site-packages (from python-dateutil->fairgraph) (1.17.0)\n",
      "Requirement already satisfied: charset-normalizer<4,>=2 in /home/abonard/anaconda3/envs/in-depth/lib/python3.12/site-packages (from requests->fairgraph) (3.4.1)\n",
      "Requirement already satisfied: idna<4,>=2.5 in /home/abonard/anaconda3/envs/in-depth/lib/python3.12/site-packages (from requests->fairgraph) (3.10)\n",
      "Requirement already satisfied: urllib3<3,>=1.21.1 in /home/abonard/anaconda3/envs/in-depth/lib/python3.12/site-packages (from requests->fairgraph) (2.3.0)\n",
      "Requirement already satisfied: certifi>=2017.4.17 in /home/abonard/anaconda3/envs/in-depth/lib/python3.12/site-packages (from requests->fairgraph) (2024.12.14)\n",
      "Requirement already satisfied: annotated-types>=0.6.0 in /home/abonard/anaconda3/envs/in-depth/lib/python3.12/site-packages (from pydantic->ebrains-kg-core->fairgraph) (0.7.0)\n",
      "Requirement already satisfied: pydantic-core==2.27.2 in /home/abonard/anaconda3/envs/in-depth/lib/python3.12/site-packages (from pydantic->ebrains-kg-core->fairgraph) (2.27.2)\n",
      "Requirement already satisfied: typing-extensions>=4.12.2 in /home/abonard/anaconda3/envs/in-depth/lib/python3.12/site-packages (from pydantic->ebrains-kg-core->fairgraph) (4.12.2)\n"
     ]
    }
   ],
   "source": [
    "# in a local terminal: \n",
    "\n",
    "# cd </path/to/tutorial/folder> # change the directory where the tutorial file is saved.\n",
    "# export KG_AUTH_TOKEN=<paste the token> (e.g. 'eyJhbGci...nPq') \n",
    "# \n",
    "\n",
    "! pip install fairgraph # to install fairgraph in your python environment \n",
    "\n",
    "# in your jupyter notebook:\n",
    "\n",
    "from fairgraph import KGClient\n",
    "import os \n",
    "\n",
    "#kg_token = os.environ['KG_AUTH_TOKEN'] \n",
    "#kg_client = KGClient(host=\"core.kg.ebrains.eu\",token=kg_token) \n",
    "\n",
    "# alternative approach 1:\n",
    "# run in an another cell - get the token everytime you need \n",
    "# kg_token = KGClient(host='core.kg.ebrains.eu').user_info()\n",
    "\n",
    "# alternative approach 2: \n",
    "# copy your token from the KG Editor directly in the jupyter notebook as below\n",
    "kg_token = \"yourtoken\"\n",
    "kg_client = KGClient(host=\"core.kg.ebrains.eu\",token=kg_token) \n"
   ]
  },
  {
   "cell_type": "markdown",
   "metadata": {},
   "source": [
    "**A space just for your notes**: \n"
   ]
  },
  {
   "cell_type": "markdown",
   "metadata": {},
   "source": []
  },
  {
   "cell_type": "markdown",
   "metadata": {},
   "source": [
    "### **Retrieving the dataset**"
   ]
  },
  {
   "cell_type": "markdown",
   "metadata": {},
   "source": [
    "\n",
    "Once your client is set up, you can download any dataset displayed in the KG using fairgraph. Here are several methods to download datasets in a jupyter notebook. We will focus on the dataset found above as an example.\\\n",
    "Thanks to fairgraph, you can have access to the dataset metadata using `Dataset` or` DatasetVersion`.\\\n",
    "Let's explore dataset metadata:"
   ]
  },
  {
   "cell_type": "markdown",
   "metadata": {},
   "source": [
    "1. #### using the dataset name."
   ]
  },
  {
   "cell_type": "markdown",
   "metadata": {},
   "source": [
    "You can use the dataset name to retrieve metadata using the method `by_name` of  `Dataset` or `DatasetVersion` with the dataset name and a KGClientinstance as arguments."
   ]
  },
  {
   "cell_type": "code",
   "execution_count": 31,
   "metadata": {},
   "outputs": [
    {
     "name": "stdout",
     "output_type": "stream",
     "text": [
      "id            https://kg.ebrains.eu/api/instances/65b1b9a3-af50-4c9c-a4e6-7556bc700da0\n",
      "space         dataset\n",
      "type          https://openminds.ebrains.eu/core/Dataset\n",
      "authors       [KGProxy([<class 'fairgraph.openminds.core.actors.person.Person'>], 'https://kg.ebrains.eu/api/instances/5dff4ef9-bd56-4aee-979a-6ed15f65d235'), KGProxy([<class 'fairgraph.openminds.core.actors.person.Person'>], 'https://kg.ebrains.eu/api/instances/2843990a-69dd-468b-a1d3-ff9589b485ae')]\n",
      "custodians    KGProxy([<class 'fairgraph.openminds.core.actors.person.Person'>], 'https://kg.ebrains.eu/api/instances/2843990a-69dd-468b-a1d3-ff9589b485ae')\n",
      "description   In this study we analyzed the intrinsic electrophysiological properties of CA1 excitatory hippocampal neurons in a mouse model of Alzheimer’s Disease (AD) at two age points: a presymptomatic age (3-4 months) and a symptomatic age: (9-10 months). At this latter age, this APPPS1 model harbors amyloid plaques and hippocampus-dependent cognitive alterations. Little is known about the excitability alterations in the hippocampus that correlate to these cognitive deficits.  Using patch clamp electrophysiology we recorded CA1 pyramidal neurons from control littermates (Wild types) and APPPS1 slices of hippocampus at these two age points.\n",
      "full_name     Excitability profile of CA1 pyramidal neurons in APPPS1 Alzheimer disease mice and control littermates\n",
      "has_versions  KGProxy([<class 'fairgraph.openminds.core.products.dataset_version.DatasetVersion'>], 'https://kg.ebrains.eu/api/instances/bd5f91ff-e829-4b85-92eb-fc56991541f1')\n",
      "short_name    Excitability profile of CA1 pyramidal neurons in APPPS1 Alzheimer disease mice and control littermates\n"
     ]
    }
   ],
   "source": [
    "from fairgraph.openminds.core import Dataset \n",
    "dataset = Dataset.by_name('Excitability profile of CA1 pyramidal neurons in APPPS1 Alzheimer disease mice and control littermates', kg_client) \n",
    "dataset.show()"
   ]
  },
  {
   "cell_type": "code",
   "execution_count": null,
   "metadata": {},
   "outputs": [
    {
     "name": "stdout",
     "output_type": "stream",
     "text": [
      "id                       https://kg.ebrains.eu/api/instances/bd5f91ff-e829-4b85-92eb-fc56991541f1\n",
      "space                    dataset\n",
      "type                     https://openminds.ebrains.eu/core/DatasetVersion\n",
      "accessibility            KGProxy([<class 'fairgraph.openminds.controlled_terms.product_accessibility.ProductAccessibility'>], 'https://kg.ebrains.eu/api/instances/b2ff7a47-b349-48d7-8ce4-cf51868675f1')\n",
      "data_types               KGProxy([<class 'fairgraph.openminds.controlled_terms.semantic_data_type.SemanticDataType'>], 'https://kg.ebrains.eu/api/instances/f468ee45-37a6-4e71-8b70-0cbe66d367db')\n",
      "description\n",
      "digital_identifier       KGProxy([<class 'fairgraph.openminds.core.digital_identifier.doi.DOI'>], 'https://kg.ebrains.eu/api/instances/df93b012-3bb6-4565-bce0-3bd2d3aed63b')\n",
      "ethics_assessment        KGProxy([<class 'fairgraph.openminds.controlled_terms.ethics_assessment.EthicsAssessment'>], 'https://kg.ebrains.eu/api/instances/a217a2f8-dcb8-4ca9-9923-517af2aebc5b')\n",
      "experimental_approaches  KGProxy([<class 'fairgraph.openminds.controlled_terms.experimental_approach.ExperimentalApproach'>], 'https://kg.ebrains.eu/api/instances/411b233f-a054-4719-bbd5-e86f1302bc46')\n",
      "full_documentation       KGProxy([<class 'fairgraph.openminds.core.miscellaneous.web_resource.WebResource'>], 'https://kg.ebrains.eu/api/instances/a245c132-30ae-4ba8-a1d1-3a0f44d056aa')\n",
      "full_name                Excitability profile of CA1 pyramidal neurons in APPPS1 Alzheimer disease mice and control littermates\n",
      "keywords                 KGProxy([<class 'fairgraph.openminds.controlled_terms.term_suggestion.TermSuggestion'>], 'https://kg.ebrains.eu/api/instances/62034f18-20fc-46d6-8f0a-277a60cb02e9')\n",
      "license                  KGProxy([<class 'fairgraph.openminds.core.data.license.License'>], 'https://kg.ebrains.eu/api/instances/64c1704b-db12-4b29-9541-b9143d081044')\n",
      "preparation_designs      KGProxy([<class 'fairgraph.openminds.controlled_terms.preparation_type.PreparationType'>], 'https://kg.ebrains.eu/api/instances/9f3abe1b-af7c-446d-b637-6a4f19ab7939')\n",
      "related_publications     KGProxy([<class 'fairgraph.openminds.core.digital_identifier.doi.DOI'>], 'https://kg.ebrains.eu/api/instances/5f477d01-82c1-4c6a-891c-e902a8c2241c')\n",
      "release_date             2020-04-21 00:00:00\n",
      "repository               KGProxy([<class 'fairgraph.openminds.core.data.file_repository.FileRepository'>], 'https://kg.ebrains.eu/api/instances/1a319b34-4903-4663-8882-b3fe5703cbcb')\n",
      "short_name               Excitability profile of CA1 pyramidal neurons in APPPS1 Alzheimer disease mice and control littermates\n",
      "studied_specimens        [KGProxy([<class 'fairgraph.openminds.core.research.subject.Subject'>], 'https://kg.ebrains.eu/api/instances/d04d00c7-b770-4744-a5f4-2ebba26ba1d1'), KGProxy([<class 'fairgraph.openminds.core.research.subject.Subject'>], 'https://kg.ebrains.eu/api/instances/31f9157a-616b-43b4-8a04-8fd8c15a7524'), KGProxy([<class 'fairgraph.openminds.core.research.subject.Subject'>], 'https://kg.ebrains.eu/api/instances/853682c7-c317-4091-b3eb-f94ce41a70a5'), KGProxy([<class 'fairgraph.openminds.core.research.tissue_sample_collection.TissueSampleCollection'>], 'https://kg.ebrains.eu/api/instances/8300e9c8-ddce-4b72-811a-96f1f7dc0d4b'), KGProxy([<class 'fairgraph.openminds.core.research.tissue_sample_collection.TissueSampleCollection'>], 'https://kg.ebrains.eu/api/instances/eca80107-1908-43cc-8897-5074f50dbe22'), KGProxy([<class 'fairgraph.openminds.core.research.tissue_sample_collection.TissueSampleCollection'>], 'https://kg.ebrains.eu/api/instances/d74401a9-24a0-4373-b2b7-60b084b66820'), KGProxy([<class 'fairgraph.openminds.core.research.tissue_sample_collection.TissueSampleCollection'>], 'https://kg.ebrains.eu/api/instances/ed399971-9797-4fc3-8796-094ebdf2432e'), KGProxy([<class 'fairgraph.openminds.core.research.subject.Subject'>], 'https://kg.ebrains.eu/api/instances/54e0bc42-9ddb-4503-98be-c1f3c03afea1'), KGProxy([<class 'fairgraph.openminds.core.research.subject.Subject'>], 'https://kg.ebrains.eu/api/instances/d5ea0238-23e7-463e-96f3-4da7c06832e4'), KGProxy([<class 'fairgraph.openminds.core.research.subject.Subject'>], 'https://kg.ebrains.eu/api/instances/6c00b1a4-d10f-408d-ac00-b07464a73321'), KGProxy([<class 'fairgraph.openminds.core.research.tissue_sample_collection.TissueSampleCollection'>], 'https://kg.ebrains.eu/api/instances/d352f598-0118-4908-ad01-a2c4b5e06028'), KGProxy([<class 'fairgraph.openminds.core.research.tissue_sample_collection.TissueSampleCollection'>], 'https://kg.ebrains.eu/api/instances/a9f319fb-9d41-4500-8eb4-08601053f850'), KGProxy([<class 'fairgraph.openminds.core.research.tissue_sample_collection.TissueSampleCollection'>], 'https://kg.ebrains.eu/api/instances/d2b62075-768e-48f4-ba00-4e8cbbb543e9'), KGProxy([<class 'fairgraph.openminds.core.research.subject.Subject'>], 'https://kg.ebrains.eu/api/instances/9a83c827-3638-4bc1-92c2-10749d30500b'), KGProxy([<class 'fairgraph.openminds.core.research.subject.Subject'>], 'https://kg.ebrains.eu/api/instances/dd214b93-8c20-4c70-ac90-584d7f66f344'), KGProxy([<class 'fairgraph.openminds.core.research.subject.Subject'>], 'https://kg.ebrains.eu/api/instances/d967e53d-277d-4a2f-9090-8c50aaf0a008'), KGProxy([<class 'fairgraph.openminds.core.research.tissue_sample_collection.TissueSampleCollection'>], 'https://kg.ebrains.eu/api/instances/0cad429a-f738-4d1d-9e56-c907b431a8c9'), KGProxy([<class 'fairgraph.openminds.core.research.tissue_sample_collection.TissueSampleCollection'>], 'https://kg.ebrains.eu/api/instances/5f40bc15-d813-4560-92a8-a533109777fb'), KGProxy([<class 'fairgraph.openminds.core.research.subject.Subject'>], 'https://kg.ebrains.eu/api/instances/0be6ad46-c50d-4a50-8e2b-0eeea708019e'), KGProxy([<class 'fairgraph.openminds.core.research.subject.Subject'>], 'https://kg.ebrains.eu/api/instances/a7197a22-0b1d-4069-89b2-17aa92910c00'), KGProxy([<class 'fairgraph.openminds.core.research.subject.Subject'>], 'https://kg.ebrains.eu/api/instances/524e0e51-6a9e-410b-8d23-79ce1b7d97b7'), KGProxy([<class 'fairgraph.openminds.core.research.subject.Subject'>], 'https://kg.ebrains.eu/api/instances/12f80b23-6bec-4b0a-90c7-b717310fb707'), KGProxy([<class 'fairgraph.openminds.core.research.tissue_sample_collection.TissueSampleCollection'>], 'https://kg.ebrains.eu/api/instances/ae759252-c8e4-4c60-aa4c-308922613371'), KGProxy([<class 'fairgraph.openminds.core.research.tissue_sample_collection.TissueSampleCollection'>], 'https://kg.ebrains.eu/api/instances/e168745f-d7cf-4977-87d0-4dbeba51a9f2'), KGProxy([<class 'fairgraph.openminds.core.research.tissue_sample_collection.TissueSampleCollection'>], 'https://kg.ebrains.eu/api/instances/d44005cd-7d11-471f-9e34-4400463449ee'), KGProxy([<class 'fairgraph.openminds.core.research.tissue_sample_collection.TissueSampleCollection'>], 'https://kg.ebrains.eu/api/instances/7831a6bc-d329-4ff1-a5cf-270c100f9f8a')]\n",
      "study_targets            KGProxy([<class 'fairgraph.openminds.controlled_terms.disease.Disease'>], 'https://kg.ebrains.eu/api/instances/161baa02-4e08-4cf2-a641-81cf323cc15d')\n",
      "techniques               [KGProxy([<class 'fairgraph.openminds.controlled_terms.technique.Technique'>], 'https://kg.ebrains.eu/api/instances/dc0bbc6c-99f5-4d3b-9c5e-e1bb7d59aa63'), KGProxy([<class 'fairgraph.openminds.controlled_terms.technique.Technique'>], 'https://kg.ebrains.eu/api/instances/ffc1c922-5ba9-4f03-b9be-05eb6fd0f294')]\n",
      "version_identifier       v1\n",
      "version_innovation       This is the first version of this research product.\n",
      "is_version_of            KGProxy([<class 'fairgraph.openminds.core.products.dataset.Dataset'>], 'https://kg.ebrains.eu/api/instances/65b1b9a3-af50-4c9c-a4e6-7556bc700da0')\n",
      "learning_resources       KGProxy([<class 'fairgraph.openminds.publications.learning_resource.LearningResource'>], 'https://kg.ebrains.eu/api/instances/5f4a2cfb-3f94-430d-a44e-00ed5924c1ce')\n"
     ]
    }
   ],
   "source": [
    "from fairgraph.openminds.core import DatasetVersion # One dataset could have several version depending on authors modifications. Each version has its own identifier\n",
    "\n",
    "dataset_version = DatasetVersion.by_name('Excitability profile of CA1 pyramidal neurons in APPPS1 Alzheimer disease mice and control littermates', kg_client)\n",
    "dataset_version.show()"
   ]
  },
  {
   "cell_type": "markdown",
   "metadata": {},
   "source": [
    "As a result and depending on the use of Dataset or DatasetVersion, you access different metadata.\\ \n",
    "With Dataset, you have access to the id of the instance that your are looking for, which is the dataset \"Excitability profile of CA1 pyramidal neurons in APPPS1 Alzheimer disease mice and control littermates\". The type corresonds to the openMINDS instance type. Authors, description, full_name and short_name are the metadata related to the Dataset. Has_version informs you how many versions are link to the dataset \"Excitability profile of CA1 pyramidal neurons in APPPS1 Alzheimer disease mice and control littermates\". For some metadata like authors, the explicit information is not displayed. It is possible to reveal it with the use of OpenMINDS schemas or resolve property. For more explanation and examples, go to the part `Exploring dataset metadata`\n",
    "\n",
    "With `DatasetVersion`, you have access to the metadata of a specific version of a dataset. As with `Dataset`, you have the id, space,short_name, full_name, description. In addition you have metadata about the publication, the techniques and experimental approaches and metada link to KG storage. As explained above, some metadata are explicitly shown and easy to access whereas others like digital_identifier i.e. DOI, are indicated as available on the KG and can be revealed with the use of OpenMINDS schemas or resolve property."
   ]
  },
  {
   "cell_type": "markdown",
   "metadata": {},
   "source": [
    "**A space just for your notes** "
   ]
  },
  {
   "cell_type": "markdown",
   "metadata": {},
   "source": []
  },
  {
   "cell_type": "markdown",
   "metadata": {},
   "source": [
    "2. #### using the ID"
   ]
  },
  {
   "cell_type": "markdown",
   "metadata": {},
   "source": [
    "In the EBRAINS Knowledge Graph, each object has its own unique id. This id can be find in the KG editor at the end of each instance information panel or in the url (e.g https://editor.kg.ebrains.eu/instances/bd5f91ff-e829-4b85-92eb-fc56991541f1 -> id = bd5f91ff-e829-4b85-92eb-fc56991541f1 ).\\\n",
    "Warnings: Dataset and DatasetVersion are two differents objects, thus there are two different ids\\\n",
    "\n",
    "To retrieve the metadata using ID, you must use the function `from_id` with the instance id and the kg_client as argument"
   ]
  },
  {
   "cell_type": "code",
   "execution_count": 116,
   "metadata": {},
   "outputs": [
    {
     "name": "stdout",
     "output_type": "stream",
     "text": [
      "id                  https://kg.ebrains.eu/api/instances/65b1b9a3-af50-4c9c-a4e6-7556bc700da0\n",
      "space               dataset\n",
      "type                https://openminds.ebrains.eu/core/Dataset\n",
      "authors             [KGProxy((<class 'fairgraph.openminds.core.actors.consortium.Consortium'>, <class 'fairgraph.openminds.core.actors.organization.Organization'>, <class 'fairgraph.openminds.core.actors.person.Person'>), 'https://kg.ebrains.eu/api/instances/5dff4ef9-bd56-4aee-979a-6ed15f65d235'), KGProxy((<class 'fairgraph.openminds.core.actors.consortium.Consortium'>, <class 'fairgraph.openminds.core.actors.organization.Organization'>, <class 'fairgraph.openminds.core.actors.person.Person'>), 'https://kg.ebrains.eu/api/instances/2843990a-69dd-468b-a1d3-ff9589b485ae')]\n",
      "custodians          KGProxy((<class 'fairgraph.openminds.core.actors.consortium.Consortium'>, <class 'fairgraph.openminds.core.actors.organization.Organization'>, <class 'fairgraph.openminds.core.actors.person.Person'>), 'https://kg.ebrains.eu/api/instances/2843990a-69dd-468b-a1d3-ff9589b485ae')\n",
      "description         In this study we analyzed the intrinsic electrophysiological properties of CA1 excitatory hippocampal neurons in a mouse model of Alzheimer’s Disease (AD) at two age points: a presymptomatic age (3-4 months) and a symptomatic age: (9-10 months). At this latter age, this APPPS1 model harbors amyloid plaques and hippocampus-dependent cognitive alterations. Little is known about the excitability alterations in the hippocampus that correlate to these cognitive deficits.  Using patch clamp electrophysiology we recorded CA1 pyramidal neurons from control littermates (Wild types) and APPPS1 slices of hippocampus at these two age points.\n",
      "digital_identifier  KGProxy((<class 'fairgraph.openminds.core.digital_identifier.doi.DOI'>, <class 'fairgraph.openminds.core.digital_identifier.identifiers_dot_org_id.IdentifiersDotOrgID'>), 'https://kg.ebrains.eu/api/instances/385f6861-1bed-40a9-b41d-e369ce78d38b')\n",
      "full_name           Excitability profile of CA1 pyramidal neurons in APPPS1 Alzheimer disease mice and control littermates\n",
      "has_versions        KGProxy([<class 'fairgraph.openminds.core.products.dataset_version.DatasetVersion'>], 'https://kg.ebrains.eu/api/instances/bd5f91ff-e829-4b85-92eb-fc56991541f1')\n",
      "short_name          Excitability profile of CA1 pyramidal neurons in APPPS1 Alzheimer disease mice and control littermates\n"
     ]
    }
   ],
   "source": [
    "dataset = Dataset.from_id('65b1b9a3-af50-4c9c-a4e6-7556bc700da0', kg_client) \n",
    "dataset.show()"
   ]
  },
  {
   "cell_type": "code",
   "execution_count": 117,
   "metadata": {},
   "outputs": [
    {
     "name": "stdout",
     "output_type": "stream",
     "text": [
      "id                       https://kg.ebrains.eu/api/instances/bd5f91ff-e829-4b85-92eb-fc56991541f1\n",
      "space                    dataset\n",
      "type                     https://openminds.ebrains.eu/core/DatasetVersion\n",
      "accessibility            KGProxy([<class 'fairgraph.openminds.controlled_terms.product_accessibility.ProductAccessibility'>], 'https://kg.ebrains.eu/api/instances/b2ff7a47-b349-48d7-8ce4-cf51868675f1')\n",
      "data_types               KGProxy([<class 'fairgraph.openminds.controlled_terms.semantic_data_type.SemanticDataType'>], 'https://kg.ebrains.eu/api/instances/f468ee45-37a6-4e71-8b70-0cbe66d367db')\n",
      "description\n",
      "digital_identifier       KGProxy((<class 'fairgraph.openminds.core.digital_identifier.doi.DOI'>, <class 'fairgraph.openminds.core.digital_identifier.identifiers_dot_org_id.IdentifiersDotOrgID'>), 'https://kg.ebrains.eu/api/instances/df93b012-3bb6-4565-bce0-3bd2d3aed63b')\n",
      "ethics_assessment        KGProxy([<class 'fairgraph.openminds.controlled_terms.ethics_assessment.EthicsAssessment'>], 'https://kg.ebrains.eu/api/instances/a217a2f8-dcb8-4ca9-9923-517af2aebc5b')\n",
      "experimental_approaches  KGProxy([<class 'fairgraph.openminds.controlled_terms.experimental_approach.ExperimentalApproach'>], 'https://kg.ebrains.eu/api/instances/411b233f-a054-4719-bbd5-e86f1302bc46')\n",
      "full_documentation       KGProxy((<class 'fairgraph.openminds.core.digital_identifier.doi.DOI'>, <class 'fairgraph.openminds.core.data.file.File'>, <class 'fairgraph.openminds.core.digital_identifier.isbn.ISBN'>, <class 'fairgraph.openminds.core.miscellaneous.web_resource.WebResource'>), 'https://kg.ebrains.eu/api/instances/a245c132-30ae-4ba8-a1d1-3a0f44d056aa')\n",
      "full_name                Excitability profile of CA1 pyramidal neurons in APPPS1 Alzheimer disease mice and control littermates\n",
      "keywords                 KGProxy((<class 'fairgraph.openminds.controlled_terms.action_status_type.ActionStatusType'>, <class 'fairgraph.openminds.controlled_terms.age_category.AgeCategory'>, <class 'fairgraph.openminds.controlled_terms.analysis_technique.AnalysisTechnique'>, <class 'fairgraph.openminds.controlled_terms.anatomical_axes_orientation.AnatomicalAxesOrientation'>, <class 'fairgraph.openminds.controlled_terms.anatomical_identification_type.AnatomicalIdentificationType'>, <class 'fairgraph.openminds.controlled_terms.anatomical_plane.AnatomicalPlane'>, <class 'fairgraph.openminds.controlled_terms.annotation_criteria_type.AnnotationCriteriaType'>, <class 'fairgraph.openminds.controlled_terms.annotation_type.AnnotationType'>, <class 'fairgraph.openminds.controlled_terms.atlas_type.AtlasType'>, <class 'fairgraph.openminds.controlled_terms.auditory_stimulus_type.AuditoryStimulusType'>, <class 'fairgraph.openminds.controlled_terms.biological_order.BiologicalOrder'>, <class 'fairgraph.openminds.controlled_terms.biological_process.BiologicalProcess'>, <class 'fairgraph.openminds.controlled_terms.biological_sex.BiologicalSex'>, <class 'fairgraph.openminds.controlled_terms.breeding_type.BreedingType'>, <class 'fairgraph.openminds.controlled_terms.cell_culture_type.CellCultureType'>, <class 'fairgraph.openminds.controlled_terms.cell_type.CellType'>, <class 'fairgraph.openminds.controlled_terms.chemical_mixture_type.ChemicalMixtureType'>, <class 'fairgraph.openminds.controlled_terms.colormap.Colormap'>, <class 'fairgraph.openminds.controlled_terms.contribution_type.ContributionType'>, <class 'fairgraph.openminds.controlled_terms.cranial_window_construction_type.CranialWindowConstructionType'>, <class 'fairgraph.openminds.controlled_terms.cranial_window_reinforcement_type.CranialWindowReinforcementType'>, <class 'fairgraph.openminds.controlled_terms.criteria_quality_type.CriteriaQualityType'>, <class 'fairgraph.openminds.controlled_terms.data_type.DataType'>, <class 'fairgraph.openminds.controlled_terms.device_type.DeviceType'>, <class 'fairgraph.openminds.controlled_terms.difference_measure.DifferenceMeasure'>, <class 'fairgraph.openminds.controlled_terms.disease.Disease'>, <class 'fairgraph.openminds.controlled_terms.disease_model.DiseaseModel'>, <class 'fairgraph.openminds.controlled_terms.educational_level.EducationalLevel'>, <class 'fairgraph.openminds.controlled_terms.electrical_stimulus_type.ElectricalStimulusType'>, <class 'fairgraph.openminds.controlled_terms.ethics_assessment.EthicsAssessment'>, <class 'fairgraph.openminds.controlled_terms.experimental_approach.ExperimentalApproach'>, <class 'fairgraph.openminds.controlled_terms.file_bundle_grouping.FileBundleGrouping'>, <class 'fairgraph.openminds.controlled_terms.file_repository_type.FileRepositoryType'>, <class 'fairgraph.openminds.controlled_terms.file_usage_role.FileUsageRole'>, <class 'fairgraph.openminds.controlled_terms.genetic_strain_type.GeneticStrainType'>, <class 'fairgraph.openminds.controlled_terms.gustatory_stimulus_type.GustatoryStimulusType'>, <class 'fairgraph.openminds.controlled_terms.handedness.Handedness'>, <class 'fairgraph.openminds.controlled_terms.language.Language'>, <class 'fairgraph.openminds.controlled_terms.laterality.Laterality'>, <class 'fairgraph.openminds.controlled_terms.learning_resource_type.LearningResourceType'>, <class 'fairgraph.openminds.controlled_terms.mri_pulse_sequence.MRIPulseSequence'>, <class 'fairgraph.openminds.controlled_terms.mri_weighting.MRIWeighting'>, <class 'fairgraph.openminds.controlled_terms.measured_quantity.MeasuredQuantity'>, <class 'fairgraph.openminds.controlled_terms.measured_signal_type.MeasuredSignalType'>, <class 'fairgraph.openminds.controlled_terms.meta_data_model_type.MetaDataModelType'>, <class 'fairgraph.openminds.controlled_terms.model_abstraction_level.ModelAbstractionLevel'>, <class 'fairgraph.openminds.controlled_terms.model_scope.ModelScope'>, <class 'fairgraph.openminds.controlled_terms.molecular_entity.MolecularEntity'>, <class 'fairgraph.openminds.controlled_terms.olfactory_stimulus_type.OlfactoryStimulusType'>, <class 'fairgraph.openminds.controlled_terms.operating_device.OperatingDevice'>, <class 'fairgraph.openminds.controlled_terms.operating_system.OperatingSystem'>, <class 'fairgraph.openminds.controlled_terms.optical_stimulus_type.OpticalStimulusType'>, <class 'fairgraph.openminds.controlled_terms.organ.Organ'>, <class 'fairgraph.openminds.controlled_terms.organism_substance.OrganismSubstance'>, <class 'fairgraph.openminds.controlled_terms.organism_system.OrganismSystem'>, <class 'fairgraph.openminds.controlled_terms.patch_clamp_variation.PatchClampVariation'>, <class 'fairgraph.openminds.controlled_terms.preparation_type.PreparationType'>, <class 'fairgraph.openminds.controlled_terms.product_accessibility.ProductAccessibility'>, <class 'fairgraph.openminds.controlled_terms.programming_language.ProgrammingLanguage'>, <class 'fairgraph.openminds.controlled_terms.qualitative_overlap.QualitativeOverlap'>, <class 'fairgraph.openminds.controlled_terms.semantic_data_type.SemanticDataType'>, <class 'fairgraph.openminds.controlled_terms.service.Service'>, <class 'fairgraph.openminds.controlled_terms.setup_type.SetupType'>, <class 'fairgraph.openminds.controlled_terms.software_application_category.SoftwareApplicationCategory'>, <class 'fairgraph.openminds.controlled_terms.software_feature.SoftwareFeature'>, <class 'fairgraph.openminds.controlled_terms.species.Species'>, <class 'fairgraph.openminds.controlled_terms.stimulation_approach.StimulationApproach'>, <class 'fairgraph.openminds.controlled_terms.stimulation_technique.StimulationTechnique'>, <class 'fairgraph.openminds.controlled_terms.subcellular_entity.SubcellularEntity'>, <class 'fairgraph.openminds.controlled_terms.subject_attribute.SubjectAttribute'>, <class 'fairgraph.openminds.controlled_terms.tactile_stimulus_type.TactileStimulusType'>, <class 'fairgraph.openminds.controlled_terms.technique.Technique'>, <class 'fairgraph.openminds.controlled_terms.term_suggestion.TermSuggestion'>, <class 'fairgraph.openminds.controlled_terms.terminology.Terminology'>, <class 'fairgraph.openminds.controlled_terms.tissue_sample_attribute.TissueSampleAttribute'>, <class 'fairgraph.openminds.controlled_terms.tissue_sample_type.TissueSampleType'>, <class 'fairgraph.openminds.controlled_terms.type_of_uncertainty.TypeOfUncertainty'>, <class 'fairgraph.openminds.controlled_terms.uberon_parcellation.UBERONParcellation'>, <class 'fairgraph.openminds.controlled_terms.unit_of_measurement.UnitOfMeasurement'>, <class 'fairgraph.openminds.controlled_terms.visual_stimulus_type.VisualStimulusType'>), 'https://kg.ebrains.eu/api/instances/62034f18-20fc-46d6-8f0a-277a60cb02e9')\n",
      "license                  KGProxy((<class 'fairgraph.openminds.core.data.license.License'>, <class 'fairgraph.openminds.core.miscellaneous.web_resource.WebResource'>), 'https://kg.ebrains.eu/api/instances/64c1704b-db12-4b29-9541-b9143d081044')\n",
      "preparation_designs      KGProxy([<class 'fairgraph.openminds.controlled_terms.preparation_type.PreparationType'>], 'https://kg.ebrains.eu/api/instances/9f3abe1b-af7c-446d-b637-6a4f19ab7939')\n",
      "related_publications     KGProxy((<class 'fairgraph.openminds.core.digital_identifier.doi.DOI'>, <class 'fairgraph.openminds.core.digital_identifier.handle.HANDLE'>, <class 'fairgraph.openminds.core.digital_identifier.isbn.ISBN'>, <class 'fairgraph.openminds.core.digital_identifier.issn.ISSN'>, <class 'fairgraph.openminds.publications.book.Book'>, <class 'fairgraph.openminds.publications.chapter.Chapter'>, <class 'fairgraph.openminds.publications.scholarly_article.ScholarlyArticle'>), 'https://kg.ebrains.eu/api/instances/5f477d01-82c1-4c6a-891c-e902a8c2241c')\n",
      "release_date             2020-04-21 00:00:00\n",
      "repository               KGProxy([<class 'fairgraph.openminds.core.data.file_repository.FileRepository'>], 'https://kg.ebrains.eu/api/instances/1a319b34-4903-4663-8882-b3fe5703cbcb')\n",
      "short_name               Excitability profile of CA1 pyramidal neurons in APPPS1 Alzheimer disease mice and control littermates\n",
      "studied_specimens        [KGProxy((<class 'fairgraph.openminds.core.research.subject.Subject'>, <class 'fairgraph.openminds.core.research.subject_group.SubjectGroup'>, <class 'fairgraph.openminds.core.research.tissue_sample.TissueSample'>, <class 'fairgraph.openminds.core.research.tissue_sample_collection.TissueSampleCollection'>), 'https://kg.ebrains.eu/api/instances/d04d00c7-b770-4744-a5f4-2ebba26ba1d1'), KGProxy((<class 'fairgraph.openminds.core.research.subject.Subject'>, <class 'fairgraph.openminds.core.research.subject_group.SubjectGroup'>, <class 'fairgraph.openminds.core.research.tissue_sample.TissueSample'>, <class 'fairgraph.openminds.core.research.tissue_sample_collection.TissueSampleCollection'>), 'https://kg.ebrains.eu/api/instances/31f9157a-616b-43b4-8a04-8fd8c15a7524'), KGProxy((<class 'fairgraph.openminds.core.research.subject.Subject'>, <class 'fairgraph.openminds.core.research.subject_group.SubjectGroup'>, <class 'fairgraph.openminds.core.research.tissue_sample.TissueSample'>, <class 'fairgraph.openminds.core.research.tissue_sample_collection.TissueSampleCollection'>), 'https://kg.ebrains.eu/api/instances/853682c7-c317-4091-b3eb-f94ce41a70a5'), KGProxy((<class 'fairgraph.openminds.core.research.subject.Subject'>, <class 'fairgraph.openminds.core.research.subject_group.SubjectGroup'>, <class 'fairgraph.openminds.core.research.tissue_sample.TissueSample'>, <class 'fairgraph.openminds.core.research.tissue_sample_collection.TissueSampleCollection'>), 'https://kg.ebrains.eu/api/instances/8300e9c8-ddce-4b72-811a-96f1f7dc0d4b'), KGProxy((<class 'fairgraph.openminds.core.research.subject.Subject'>, <class 'fairgraph.openminds.core.research.subject_group.SubjectGroup'>, <class 'fairgraph.openminds.core.research.tissue_sample.TissueSample'>, <class 'fairgraph.openminds.core.research.tissue_sample_collection.TissueSampleCollection'>), 'https://kg.ebrains.eu/api/instances/eca80107-1908-43cc-8897-5074f50dbe22'), KGProxy((<class 'fairgraph.openminds.core.research.subject.Subject'>, <class 'fairgraph.openminds.core.research.subject_group.SubjectGroup'>, <class 'fairgraph.openminds.core.research.tissue_sample.TissueSample'>, <class 'fairgraph.openminds.core.research.tissue_sample_collection.TissueSampleCollection'>), 'https://kg.ebrains.eu/api/instances/d74401a9-24a0-4373-b2b7-60b084b66820'), KGProxy((<class 'fairgraph.openminds.core.research.subject.Subject'>, <class 'fairgraph.openminds.core.research.subject_group.SubjectGroup'>, <class 'fairgraph.openminds.core.research.tissue_sample.TissueSample'>, <class 'fairgraph.openminds.core.research.tissue_sample_collection.TissueSampleCollection'>), 'https://kg.ebrains.eu/api/instances/ed399971-9797-4fc3-8796-094ebdf2432e'), KGProxy((<class 'fairgraph.openminds.core.research.subject.Subject'>, <class 'fairgraph.openminds.core.research.subject_group.SubjectGroup'>, <class 'fairgraph.openminds.core.research.tissue_sample.TissueSample'>, <class 'fairgraph.openminds.core.research.tissue_sample_collection.TissueSampleCollection'>), 'https://kg.ebrains.eu/api/instances/54e0bc42-9ddb-4503-98be-c1f3c03afea1'), KGProxy((<class 'fairgraph.openminds.core.research.subject.Subject'>, <class 'fairgraph.openminds.core.research.subject_group.SubjectGroup'>, <class 'fairgraph.openminds.core.research.tissue_sample.TissueSample'>, <class 'fairgraph.openminds.core.research.tissue_sample_collection.TissueSampleCollection'>), 'https://kg.ebrains.eu/api/instances/d5ea0238-23e7-463e-96f3-4da7c06832e4'), KGProxy((<class 'fairgraph.openminds.core.research.subject.Subject'>, <class 'fairgraph.openminds.core.research.subject_group.SubjectGroup'>, <class 'fairgraph.openminds.core.research.tissue_sample.TissueSample'>, <class 'fairgraph.openminds.core.research.tissue_sample_collection.TissueSampleCollection'>), 'https://kg.ebrains.eu/api/instances/6c00b1a4-d10f-408d-ac00-b07464a73321'), KGProxy((<class 'fairgraph.openminds.core.research.subject.Subject'>, <class 'fairgraph.openminds.core.research.subject_group.SubjectGroup'>, <class 'fairgraph.openminds.core.research.tissue_sample.TissueSample'>, <class 'fairgraph.openminds.core.research.tissue_sample_collection.TissueSampleCollection'>), 'https://kg.ebrains.eu/api/instances/d352f598-0118-4908-ad01-a2c4b5e06028'), KGProxy((<class 'fairgraph.openminds.core.research.subject.Subject'>, <class 'fairgraph.openminds.core.research.subject_group.SubjectGroup'>, <class 'fairgraph.openminds.core.research.tissue_sample.TissueSample'>, <class 'fairgraph.openminds.core.research.tissue_sample_collection.TissueSampleCollection'>), 'https://kg.ebrains.eu/api/instances/a9f319fb-9d41-4500-8eb4-08601053f850'), KGProxy((<class 'fairgraph.openminds.core.research.subject.Subject'>, <class 'fairgraph.openminds.core.research.subject_group.SubjectGroup'>, <class 'fairgraph.openminds.core.research.tissue_sample.TissueSample'>, <class 'fairgraph.openminds.core.research.tissue_sample_collection.TissueSampleCollection'>), 'https://kg.ebrains.eu/api/instances/d2b62075-768e-48f4-ba00-4e8cbbb543e9'), KGProxy((<class 'fairgraph.openminds.core.research.subject.Subject'>, <class 'fairgraph.openminds.core.research.subject_group.SubjectGroup'>, <class 'fairgraph.openminds.core.research.tissue_sample.TissueSample'>, <class 'fairgraph.openminds.core.research.tissue_sample_collection.TissueSampleCollection'>), 'https://kg.ebrains.eu/api/instances/9a83c827-3638-4bc1-92c2-10749d30500b'), KGProxy((<class 'fairgraph.openminds.core.research.subject.Subject'>, <class 'fairgraph.openminds.core.research.subject_group.SubjectGroup'>, <class 'fairgraph.openminds.core.research.tissue_sample.TissueSample'>, <class 'fairgraph.openminds.core.research.tissue_sample_collection.TissueSampleCollection'>), 'https://kg.ebrains.eu/api/instances/dd214b93-8c20-4c70-ac90-584d7f66f344'), KGProxy((<class 'fairgraph.openminds.core.research.subject.Subject'>, <class 'fairgraph.openminds.core.research.subject_group.SubjectGroup'>, <class 'fairgraph.openminds.core.research.tissue_sample.TissueSample'>, <class 'fairgraph.openminds.core.research.tissue_sample_collection.TissueSampleCollection'>), 'https://kg.ebrains.eu/api/instances/d967e53d-277d-4a2f-9090-8c50aaf0a008'), KGProxy((<class 'fairgraph.openminds.core.research.subject.Subject'>, <class 'fairgraph.openminds.core.research.subject_group.SubjectGroup'>, <class 'fairgraph.openminds.core.research.tissue_sample.TissueSample'>, <class 'fairgraph.openminds.core.research.tissue_sample_collection.TissueSampleCollection'>), 'https://kg.ebrains.eu/api/instances/0cad429a-f738-4d1d-9e56-c907b431a8c9'), KGProxy((<class 'fairgraph.openminds.core.research.subject.Subject'>, <class 'fairgraph.openminds.core.research.subject_group.SubjectGroup'>, <class 'fairgraph.openminds.core.research.tissue_sample.TissueSample'>, <class 'fairgraph.openminds.core.research.tissue_sample_collection.TissueSampleCollection'>), 'https://kg.ebrains.eu/api/instances/5f40bc15-d813-4560-92a8-a533109777fb'), KGProxy((<class 'fairgraph.openminds.core.research.subject.Subject'>, <class 'fairgraph.openminds.core.research.subject_group.SubjectGroup'>, <class 'fairgraph.openminds.core.research.tissue_sample.TissueSample'>, <class 'fairgraph.openminds.core.research.tissue_sample_collection.TissueSampleCollection'>), 'https://kg.ebrains.eu/api/instances/0be6ad46-c50d-4a50-8e2b-0eeea708019e'), KGProxy((<class 'fairgraph.openminds.core.research.subject.Subject'>, <class 'fairgraph.openminds.core.research.subject_group.SubjectGroup'>, <class 'fairgraph.openminds.core.research.tissue_sample.TissueSample'>, <class 'fairgraph.openminds.core.research.tissue_sample_collection.TissueSampleCollection'>), 'https://kg.ebrains.eu/api/instances/a7197a22-0b1d-4069-89b2-17aa92910c00'), KGProxy((<class 'fairgraph.openminds.core.research.subject.Subject'>, <class 'fairgraph.openminds.core.research.subject_group.SubjectGroup'>, <class 'fairgraph.openminds.core.research.tissue_sample.TissueSample'>, <class 'fairgraph.openminds.core.research.tissue_sample_collection.TissueSampleCollection'>), 'https://kg.ebrains.eu/api/instances/524e0e51-6a9e-410b-8d23-79ce1b7d97b7'), KGProxy((<class 'fairgraph.openminds.core.research.subject.Subject'>, <class 'fairgraph.openminds.core.research.subject_group.SubjectGroup'>, <class 'fairgraph.openminds.core.research.tissue_sample.TissueSample'>, <class 'fairgraph.openminds.core.research.tissue_sample_collection.TissueSampleCollection'>), 'https://kg.ebrains.eu/api/instances/12f80b23-6bec-4b0a-90c7-b717310fb707'), KGProxy((<class 'fairgraph.openminds.core.research.subject.Subject'>, <class 'fairgraph.openminds.core.research.subject_group.SubjectGroup'>, <class 'fairgraph.openminds.core.research.tissue_sample.TissueSample'>, <class 'fairgraph.openminds.core.research.tissue_sample_collection.TissueSampleCollection'>), 'https://kg.ebrains.eu/api/instances/ae759252-c8e4-4c60-aa4c-308922613371'), KGProxy((<class 'fairgraph.openminds.core.research.subject.Subject'>, <class 'fairgraph.openminds.core.research.subject_group.SubjectGroup'>, <class 'fairgraph.openminds.core.research.tissue_sample.TissueSample'>, <class 'fairgraph.openminds.core.research.tissue_sample_collection.TissueSampleCollection'>), 'https://kg.ebrains.eu/api/instances/e168745f-d7cf-4977-87d0-4dbeba51a9f2'), KGProxy((<class 'fairgraph.openminds.core.research.subject.Subject'>, <class 'fairgraph.openminds.core.research.subject_group.SubjectGroup'>, <class 'fairgraph.openminds.core.research.tissue_sample.TissueSample'>, <class 'fairgraph.openminds.core.research.tissue_sample_collection.TissueSampleCollection'>), 'https://kg.ebrains.eu/api/instances/d44005cd-7d11-471f-9e34-4400463449ee'), KGProxy((<class 'fairgraph.openminds.core.research.subject.Subject'>, <class 'fairgraph.openminds.core.research.subject_group.SubjectGroup'>, <class 'fairgraph.openminds.core.research.tissue_sample.TissueSample'>, <class 'fairgraph.openminds.core.research.tissue_sample_collection.TissueSampleCollection'>), 'https://kg.ebrains.eu/api/instances/7831a6bc-d329-4ff1-a5cf-270c100f9f8a')]\n",
      "study_targets            KGProxy((<class 'fairgraph.openminds.controlled_terms.auditory_stimulus_type.AuditoryStimulusType'>, <class 'fairgraph.openminds.controlled_terms.biological_order.BiologicalOrder'>, <class 'fairgraph.openminds.controlled_terms.biological_sex.BiologicalSex'>, <class 'fairgraph.openminds.controlled_terms.breeding_type.BreedingType'>, <class 'fairgraph.openminds.controlled_terms.cell_culture_type.CellCultureType'>, <class 'fairgraph.openminds.controlled_terms.cell_type.CellType'>, <class 'fairgraph.openminds.controlled_terms.disease.Disease'>, <class 'fairgraph.openminds.controlled_terms.disease_model.DiseaseModel'>, <class 'fairgraph.openminds.controlled_terms.electrical_stimulus_type.ElectricalStimulusType'>, <class 'fairgraph.openminds.controlled_terms.genetic_strain_type.GeneticStrainType'>, <class 'fairgraph.openminds.controlled_terms.gustatory_stimulus_type.GustatoryStimulusType'>, <class 'fairgraph.openminds.controlled_terms.handedness.Handedness'>, <class 'fairgraph.openminds.controlled_terms.molecular_entity.MolecularEntity'>, <class 'fairgraph.openminds.controlled_terms.olfactory_stimulus_type.OlfactoryStimulusType'>, <class 'fairgraph.openminds.controlled_terms.optical_stimulus_type.OpticalStimulusType'>, <class 'fairgraph.openminds.controlled_terms.organ.Organ'>, <class 'fairgraph.openminds.controlled_terms.organism_substance.OrganismSubstance'>, <class 'fairgraph.openminds.controlled_terms.organism_system.OrganismSystem'>, <class 'fairgraph.openminds.controlled_terms.species.Species'>, <class 'fairgraph.openminds.controlled_terms.subcellular_entity.SubcellularEntity'>, <class 'fairgraph.openminds.controlled_terms.tactile_stimulus_type.TactileStimulusType'>, <class 'fairgraph.openminds.controlled_terms.term_suggestion.TermSuggestion'>, <class 'fairgraph.openminds.controlled_terms.tissue_sample_type.TissueSampleType'>, <class 'fairgraph.openminds.controlled_terms.uberon_parcellation.UBERONParcellation'>, <class 'fairgraph.openminds.controlled_terms.visual_stimulus_type.VisualStimulusType'>, <class 'fairgraph.openminds.sands.non_atlas.custom_anatomical_entity.CustomAnatomicalEntity'>, <class 'fairgraph.openminds.sands.atlas.parcellation_entity.ParcellationEntity'>, <class 'fairgraph.openminds.sands.atlas.parcellation_entity_version.ParcellationEntityVersion'>), 'https://kg.ebrains.eu/api/instances/161baa02-4e08-4cf2-a641-81cf323cc15d')\n",
      "techniques               [KGProxy((<class 'fairgraph.openminds.controlled_terms.analysis_technique.AnalysisTechnique'>, <class 'fairgraph.openminds.controlled_terms.mri_pulse_sequence.MRIPulseSequence'>, <class 'fairgraph.openminds.controlled_terms.mri_weighting.MRIWeighting'>, <class 'fairgraph.openminds.controlled_terms.stimulation_approach.StimulationApproach'>, <class 'fairgraph.openminds.controlled_terms.stimulation_technique.StimulationTechnique'>, <class 'fairgraph.openminds.controlled_terms.technique.Technique'>), 'https://kg.ebrains.eu/api/instances/dc0bbc6c-99f5-4d3b-9c5e-e1bb7d59aa63'), KGProxy((<class 'fairgraph.openminds.controlled_terms.analysis_technique.AnalysisTechnique'>, <class 'fairgraph.openminds.controlled_terms.mri_pulse_sequence.MRIPulseSequence'>, <class 'fairgraph.openminds.controlled_terms.mri_weighting.MRIWeighting'>, <class 'fairgraph.openminds.controlled_terms.stimulation_approach.StimulationApproach'>, <class 'fairgraph.openminds.controlled_terms.stimulation_technique.StimulationTechnique'>, <class 'fairgraph.openminds.controlled_terms.technique.Technique'>), 'https://kg.ebrains.eu/api/instances/ffc1c922-5ba9-4f03-b9be-05eb6fd0f294')]\n",
      "version_identifier       v1\n",
      "version_innovation       This is the first version of this research product.\n"
     ]
    }
   ],
   "source": [
    "dataset_version = DatasetVersion.from_id('bd5f91ff-e829-4b85-92eb-fc56991541f1', kg_client)\n",
    "dataset_version.show()"
   ]
  },
  {
   "cell_type": "markdown",
   "metadata": {},
   "source": [
    "**A space just for your notes** "
   ]
  },
  {
   "cell_type": "markdown",
   "metadata": {},
   "source": [
    "3. #### using the DOI"
   ]
  },
  {
   "cell_type": "markdown",
   "metadata": {},
   "source": [
    "You can use the DOI, to retrieve the dataset. This DOI is different from publication DOI\n",
    "To retrieve it, run this fairgraph query: `DatasetVersion.list(kg_client,digital_identifier__identifier=\"10.25493/YJFW-HPY\")`\\\n",
    "Further in this tutorial, you will be introduce to simple fairgraph queries as this one below. "
   ]
  },
  {
   "cell_type": "code",
   "execution_count": 14,
   "metadata": {},
   "outputs": [
    {
     "name": "stdout",
     "output_type": "stream",
     "text": [
      "id                       https://kg.ebrains.eu/api/instances/bd5f91ff-e829-4b85-92eb-fc56991541f1\n",
      "space                    dataset\n",
      "type                     https://openminds.ebrains.eu/core/DatasetVersion\n",
      "accessibility            KGProxy([<class 'fairgraph.openminds.controlled_terms.product_accessibility.ProductAccessibility'>], 'https://kg.ebrains.eu/api/instances/b2ff7a47-b349-48d7-8ce4-cf51868675f1')\n",
      "data_types               KGProxy([<class 'fairgraph.openminds.controlled_terms.semantic_data_type.SemanticDataType'>], 'https://kg.ebrains.eu/api/instances/f468ee45-37a6-4e71-8b70-0cbe66d367db')\n",
      "description\n",
      "digital_identifier       KGProxy([<class 'fairgraph.openminds.core.digital_identifier.doi.DOI'>], 'https://kg.ebrains.eu/api/instances/df93b012-3bb6-4565-bce0-3bd2d3aed63b')\n",
      "ethics_assessment        KGProxy([<class 'fairgraph.openminds.controlled_terms.ethics_assessment.EthicsAssessment'>], 'https://kg.ebrains.eu/api/instances/a217a2f8-dcb8-4ca9-9923-517af2aebc5b')\n",
      "experimental_approaches  KGProxy([<class 'fairgraph.openminds.controlled_terms.experimental_approach.ExperimentalApproach'>], 'https://kg.ebrains.eu/api/instances/411b233f-a054-4719-bbd5-e86f1302bc46')\n",
      "full_documentation       KGProxy([<class 'fairgraph.openminds.core.miscellaneous.web_resource.WebResource'>], 'https://kg.ebrains.eu/api/instances/a245c132-30ae-4ba8-a1d1-3a0f44d056aa')\n",
      "full_name                Excitability profile of CA1 pyramidal neurons in APPPS1 Alzheimer disease mice and control littermates\n",
      "keywords                 KGProxy([<class 'fairgraph.openminds.controlled_terms.term_suggestion.TermSuggestion'>], 'https://kg.ebrains.eu/api/instances/62034f18-20fc-46d6-8f0a-277a60cb02e9')\n",
      "license                  KGProxy([<class 'fairgraph.openminds.core.data.license.License'>], 'https://kg.ebrains.eu/api/instances/64c1704b-db12-4b29-9541-b9143d081044')\n",
      "preparation_designs      KGProxy([<class 'fairgraph.openminds.controlled_terms.preparation_type.PreparationType'>], 'https://kg.ebrains.eu/api/instances/9f3abe1b-af7c-446d-b637-6a4f19ab7939')\n",
      "related_publications     KGProxy([<class 'fairgraph.openminds.core.digital_identifier.doi.DOI'>], 'https://kg.ebrains.eu/api/instances/5f477d01-82c1-4c6a-891c-e902a8c2241c')\n",
      "release_date             2020-04-21 00:00:00\n",
      "repository               KGProxy([<class 'fairgraph.openminds.core.data.file_repository.FileRepository'>], 'https://kg.ebrains.eu/api/instances/1a319b34-4903-4663-8882-b3fe5703cbcb')\n",
      "short_name               Excitability profile of CA1 pyramidal neurons in APPPS1 Alzheimer disease mice and control littermates\n",
      "studied_specimens        [KGProxy([<class 'fairgraph.openminds.core.research.subject.Subject'>], 'https://kg.ebrains.eu/api/instances/d04d00c7-b770-4744-a5f4-2ebba26ba1d1'), KGProxy([<class 'fairgraph.openminds.core.research.subject.Subject'>], 'https://kg.ebrains.eu/api/instances/31f9157a-616b-43b4-8a04-8fd8c15a7524'), KGProxy([<class 'fairgraph.openminds.core.research.subject.Subject'>], 'https://kg.ebrains.eu/api/instances/853682c7-c317-4091-b3eb-f94ce41a70a5'), KGProxy([<class 'fairgraph.openminds.core.research.tissue_sample_collection.TissueSampleCollection'>], 'https://kg.ebrains.eu/api/instances/8300e9c8-ddce-4b72-811a-96f1f7dc0d4b'), KGProxy([<class 'fairgraph.openminds.core.research.tissue_sample_collection.TissueSampleCollection'>], 'https://kg.ebrains.eu/api/instances/eca80107-1908-43cc-8897-5074f50dbe22'), KGProxy([<class 'fairgraph.openminds.core.research.tissue_sample_collection.TissueSampleCollection'>], 'https://kg.ebrains.eu/api/instances/d74401a9-24a0-4373-b2b7-60b084b66820'), KGProxy([<class 'fairgraph.openminds.core.research.tissue_sample_collection.TissueSampleCollection'>], 'https://kg.ebrains.eu/api/instances/ed399971-9797-4fc3-8796-094ebdf2432e'), KGProxy([<class 'fairgraph.openminds.core.research.subject.Subject'>], 'https://kg.ebrains.eu/api/instances/54e0bc42-9ddb-4503-98be-c1f3c03afea1'), KGProxy([<class 'fairgraph.openminds.core.research.subject.Subject'>], 'https://kg.ebrains.eu/api/instances/d5ea0238-23e7-463e-96f3-4da7c06832e4'), KGProxy([<class 'fairgraph.openminds.core.research.subject.Subject'>], 'https://kg.ebrains.eu/api/instances/6c00b1a4-d10f-408d-ac00-b07464a73321'), KGProxy([<class 'fairgraph.openminds.core.research.tissue_sample_collection.TissueSampleCollection'>], 'https://kg.ebrains.eu/api/instances/d352f598-0118-4908-ad01-a2c4b5e06028'), KGProxy([<class 'fairgraph.openminds.core.research.tissue_sample_collection.TissueSampleCollection'>], 'https://kg.ebrains.eu/api/instances/a9f319fb-9d41-4500-8eb4-08601053f850'), KGProxy([<class 'fairgraph.openminds.core.research.tissue_sample_collection.TissueSampleCollection'>], 'https://kg.ebrains.eu/api/instances/d2b62075-768e-48f4-ba00-4e8cbbb543e9'), KGProxy([<class 'fairgraph.openminds.core.research.subject.Subject'>], 'https://kg.ebrains.eu/api/instances/9a83c827-3638-4bc1-92c2-10749d30500b'), KGProxy([<class 'fairgraph.openminds.core.research.subject.Subject'>], 'https://kg.ebrains.eu/api/instances/dd214b93-8c20-4c70-ac90-584d7f66f344'), KGProxy([<class 'fairgraph.openminds.core.research.subject.Subject'>], 'https://kg.ebrains.eu/api/instances/d967e53d-277d-4a2f-9090-8c50aaf0a008'), KGProxy([<class 'fairgraph.openminds.core.research.tissue_sample_collection.TissueSampleCollection'>], 'https://kg.ebrains.eu/api/instances/0cad429a-f738-4d1d-9e56-c907b431a8c9'), KGProxy([<class 'fairgraph.openminds.core.research.tissue_sample_collection.TissueSampleCollection'>], 'https://kg.ebrains.eu/api/instances/5f40bc15-d813-4560-92a8-a533109777fb'), KGProxy([<class 'fairgraph.openminds.core.research.subject.Subject'>], 'https://kg.ebrains.eu/api/instances/0be6ad46-c50d-4a50-8e2b-0eeea708019e'), KGProxy([<class 'fairgraph.openminds.core.research.subject.Subject'>], 'https://kg.ebrains.eu/api/instances/a7197a22-0b1d-4069-89b2-17aa92910c00'), KGProxy([<class 'fairgraph.openminds.core.research.subject.Subject'>], 'https://kg.ebrains.eu/api/instances/524e0e51-6a9e-410b-8d23-79ce1b7d97b7'), KGProxy([<class 'fairgraph.openminds.core.research.subject.Subject'>], 'https://kg.ebrains.eu/api/instances/12f80b23-6bec-4b0a-90c7-b717310fb707'), KGProxy([<class 'fairgraph.openminds.core.research.tissue_sample_collection.TissueSampleCollection'>], 'https://kg.ebrains.eu/api/instances/ae759252-c8e4-4c60-aa4c-308922613371'), KGProxy([<class 'fairgraph.openminds.core.research.tissue_sample_collection.TissueSampleCollection'>], 'https://kg.ebrains.eu/api/instances/e168745f-d7cf-4977-87d0-4dbeba51a9f2'), KGProxy([<class 'fairgraph.openminds.core.research.tissue_sample_collection.TissueSampleCollection'>], 'https://kg.ebrains.eu/api/instances/d44005cd-7d11-471f-9e34-4400463449ee'), KGProxy([<class 'fairgraph.openminds.core.research.tissue_sample_collection.TissueSampleCollection'>], 'https://kg.ebrains.eu/api/instances/7831a6bc-d329-4ff1-a5cf-270c100f9f8a')]\n",
      "study_targets            KGProxy([<class 'fairgraph.openminds.controlled_terms.disease.Disease'>], 'https://kg.ebrains.eu/api/instances/161baa02-4e08-4cf2-a641-81cf323cc15d')\n",
      "techniques               [KGProxy([<class 'fairgraph.openminds.controlled_terms.technique.Technique'>], 'https://kg.ebrains.eu/api/instances/dc0bbc6c-99f5-4d3b-9c5e-e1bb7d59aa63'), KGProxy([<class 'fairgraph.openminds.controlled_terms.technique.Technique'>], 'https://kg.ebrains.eu/api/instances/ffc1c922-5ba9-4f03-b9be-05eb6fd0f294')]\n",
      "version_identifier       v1\n",
      "version_innovation       This is the first version of this research product.\n",
      "is_version_of            KGProxy([<class 'fairgraph.openminds.core.products.dataset.Dataset'>], 'https://kg.ebrains.eu/api/instances/65b1b9a3-af50-4c9c-a4e6-7556bc700da0')\n",
      "learning_resources       KGProxy([<class 'fairgraph.openminds.publications.learning_resource.LearningResource'>], 'https://kg.ebrains.eu/api/instances/5f4a2cfb-3f94-430d-a44e-00ed5924c1ce')\n"
     ]
    }
   ],
   "source": [
    "# DatasetVersion.list(kg_client,digital_identifier__identifier=\"10.25493/YJFW-HPY\") returns a list. \n",
    "# In order to access metadata, you have to select on element of the list as display below:  \n",
    "\n",
    "dataset_version = DatasetVersion.list(kg_client,digital_identifier__identifier=\"10.25493/YJFW-HPY\")[0] \n",
    "dataset_version.show()"
   ]
  },
  {
   "cell_type": "markdown",
   "metadata": {},
   "source": [
    "### **Downloading the dataset**"
   ]
  },
  {
   "cell_type": "markdown",
   "metadata": {},
   "source": [
    "Once the dataset retrieved in a fairgraph object, you can download the all dataset into your local system (your working directory for example) you can use the property `download`. \n",
    "To do so, you have to define your `local_path`. Then, you must use download property with the local_path, the kg_client as arguments. You must accept the terms of use as shown below. "
   ]
  },
  {
   "cell_type": "code",
   "execution_count": null,
   "metadata": {},
   "outputs": [],
   "source": [
    "# Get your local path\n",
    "import os \n",
    "\n",
    "local_path = os.path.abspath('path/to/download/directory')\n",
    "# or\n",
    "local_path = os.getcwd() # get the working directory\n"
   ]
  },
  {
   "cell_type": "code",
   "execution_count": null,
   "metadata": {},
   "outputs": [],
   "source": [
    "dataset_version.download(local_path='...', client=kg_client, accept_terms_of_use=True)"
   ]
  },
  {
   "cell_type": "markdown",
   "metadata": {},
   "source": [
    "**A space just for your notes**: "
   ]
  },
  {
   "cell_type": "markdown",
   "metadata": {},
   "source": [
    "### **Explore the dataset metadata**"
   ]
  },
  {
   "cell_type": "markdown",
   "metadata": {},
   "source": [
    "Finding the right dataset for a study and exploring it takes time. Indeed, exploring file content, understanding how a folder is structured and if data correspond to what you looking for is time consuming. Using metadata could reduce this time process by optimizing the search. \n",
    "In this part, you will explore metadata and files of a dataset without needing to download the dataset with fairgraph library.\n",
    "\n",
    "Here are some ways to retrieve relevant metadata that can facilitate your search of a dataset."
   ]
  },
  {
   "cell_type": "markdown",
   "metadata": {},
   "source": [
    "##### Authors"
   ]
  },
  {
   "cell_type": "markdown",
   "metadata": {},
   "source": [
    "In the previous part, you learned how to retrieve a dataset with `Dataset` or `DatasetVersion` presenting explicit and non-explicit metadata. Here you will learn how to explicit them. To explicitly retrieve authors you have to use the argument `follow_links`. When you fetch a dataset with Dataset or DatatsetVersion, you fetch default nodes (i.e. explicit metadata), with follow_link you add more nodes. Thereby, you can access the target metadata. Let's try with authors: \n",
    "\n",
    "You want to retrieve the affiliations of the dataset's authors. By consulting the [Dataset schema specifications](https://openminds-documentation.readthedocs.io/en/latest/schema_specifications/core/products/dataset.html#dataset) in the openMINDS documentation, you can see which links you need to \n",
    "\n",
    "This informs you about the definition and the schema specifications. In `value type `, you have the metadata link to authors. In this example, you aim to find the authors' name. In this case, you seek `Person`. Thus, follow_links will take this form: `follow_links={\"authors\": {}}`\n"
   ]
  },
  {
   "cell_type": "code",
   "execution_count": null,
   "metadata": {},
   "outputs": [
    {
     "name": "stdout",
     "output_type": "stream",
     "text": [
      "This dataset has 2 authors. Salgueiro-Pereira Ana Rita and  Marie Hélène\n"
     ]
    }
   ],
   "source": [
    "# Retrieve the dataset object: \n",
    "dataset = Dataset.by_name('Excitability profile of CA1 pyramidal neurons in APPPS1 Alzheimer disease mice and control littermates', kg_client, follow_links={\"authors\": {\"Person\": {}}})\n",
    "print(f'This dataset has {len(dataset.authors)} authors. {dataset.authors[0].family_name} {dataset.authors[0].given_name} and  {dataset.authors[1].family_name} {dataset.authors[1].given_name}')\n"
   ]
  },
  {
   "cell_type": "markdown",
   "metadata": {},
   "source": [
    "#### Datafiles"
   ]
  },
  {
   "cell_type": "markdown",
   "metadata": {},
   "source": [
    "Let's try again with files linked to this Dataset. "
   ]
  },
  {
   "cell_type": "code",
   "execution_count": null,
   "metadata": {},
   "outputs": [],
   "source": [
    "dataset_version = DatasetVersion.by_name('Excitability profile of CA1 pyramidal neurons in APPPS1 Alzheimer disease mice and control littermates', kg_client, follow_links={\"repository\": {\"files\": {}}})\n",
    "\n",
    "files_iri = []\n",
    "files_name = []\n",
    "for file in dataset_version.repository.files:\n",
    "    files_iri.append(file.iri)\n",
    "    files_name.append(file.name)\n",
    "\n",
    "print(f'This tutorial has {len(files_iri)} files including {len([datafile for datafile in files_iri if 'abf' in str(datafile)])} files with the abf extension.')"
   ]
  },
  {
   "cell_type": "markdown",
   "metadata": {},
   "source": [
    "#### Publication"
   ]
  },
  {
   "cell_type": "markdown",
   "metadata": {},
   "source": [
    "You have another method to retrieve metadata by using `resolve` and `follow_links`. \n",
    "With follow_link you select the target node (related_publication). Then, you select an information linked to the related_publication. Here, you can retrieve the publication DOI."
   ]
  },
  {
   "cell_type": "code",
   "execution_count": null,
   "metadata": {},
   "outputs": [
    {
     "name": "stdout",
     "output_type": "stream",
     "text": [
      "KGProxy([<class 'fairgraph.openminds.core.digital_identifier.doi.DOI'>], 'https://kg.ebrains.eu/api/instances/5f477d01-82c1-4c6a-891c-e902a8c2241c')\n"
     ]
    }
   ],
   "source": [
    "dataset_version = DatasetVersion.by_name('Excitability profile of CA1 pyramidal neurons in APPPS1 Alzheimer disease mice and control littermates', kg_client, follow_links={\"relatedPublication\": {}}) \n",
    "related_publication_ = dataset_version.related_publications\n",
    "related_publication_.resolve(kg_client).identifier"
   ]
  },
  {
   "cell_type": "markdown",
   "metadata": {},
   "source": [
    "**Exercise**: Let's do the same for the dataset DOI, Experimental approaches, study targets and studies specimens"
   ]
  },
  {
   "cell_type": "markdown",
   "metadata": {},
   "source": [
    "#### DOI"
   ]
  },
  {
   "cell_type": "code",
   "execution_count": null,
   "metadata": {},
   "outputs": [
    {
     "name": "stdout",
     "output_type": "stream",
     "text": [
      "KGProxy([<class 'fairgraph.openminds.core.digital_identifier.doi.DOI'>], 'https://kg.ebrains.eu/api/instances/df93b012-3bb6-4565-bce0-3bd2d3aed63b')\n"
     ]
    }
   ],
   "source": [
    "dataset_version = DatasetVersion.by_name('Excitability profile of CA1 pyramidal neurons in APPPS1 Alzheimer disease mice and control littermates', kg_client, follow_links={\"digitalIdentifier\": {\"DOI\":{}}}) #\n",
    "dataset_doi = dataset_version.digital_identifier\n",
    "dataset_doi.resolve(kg_client).identifier"
   ]
  },
  {
   "cell_type": "markdown",
   "metadata": {},
   "source": [
    "#### Experimental Approach"
   ]
  },
  {
   "cell_type": "code",
   "execution_count": null,
   "metadata": {},
   "outputs": [],
   "source": [
    "dataset_version = DatasetVersion.by_name('Excitability profile of CA1 pyramidal neurons in APPPS1 Alzheimer disease mice and control littermates', kg_client, follow_links={\"experimental_approaches \": {}}) #\n",
    "dataset_version.experimental_approaches.resolve(kg_client).name"
   ]
  },
  {
   "cell_type": "markdown",
   "metadata": {},
   "source": [
    "#### Techniques"
   ]
  },
  {
   "cell_type": "code",
   "execution_count": null,
   "metadata": {},
   "outputs": [],
   "source": [
    "dataset_version = DatasetVersion.by_name('Excitability profile of CA1 pyramidal neurons in APPPS1 Alzheimer disease mice and control littermates', kg_client, follow_links={\"techniques\": {}}) #\n",
    "print(dataset_version.techniques[0].name)"
   ]
  },
  {
   "cell_type": "markdown",
   "metadata": {},
   "source": [
    "#### Studied Specimens"
   ]
  },
  {
   "cell_type": "code",
   "execution_count": null,
   "metadata": {},
   "outputs": [],
   "source": [
    "dataset_version = DatasetVersion.by_name('Excitability profile of CA1 pyramidal neurons in APPPS1 Alzheimer disease mice and control littermates', kg_client, follow_links={\"studied_specimens\": {}}) #\n",
    "studies_specimens = dataset_version.studied_specimens\n",
    "for specimens in studies_specimens: \n",
    "    print(specimens.species.resolve(kg_client).name)\n",
    "    print(specimens.lookup_label)\n"
   ]
  },
  {
   "cell_type": "markdown",
   "metadata": {},
   "source": [
    "*A space just for your notes*: "
   ]
  },
  {
   "cell_type": "markdown",
   "metadata": {},
   "source": []
  },
  {
   "cell_type": "markdown",
   "metadata": {},
   "source": [
    "## 4. Finding datasets with fairgraph queries: a brief introduction "
   ]
  },
  {
   "cell_type": "markdown",
   "metadata": {},
   "source": [
    "*This part is a brief introduction to queries. Please see the tutorial EBRAINS Knowledge Graph Advanced for more information.*\\\n",
    "One other use of Fairgraph library is the Queries. Queries are useful if you need to search a dataset using filters. \n",
    "As presented above, you can use `DatasetVerison` to obtain a list of potential datasets of interest. For more information you can consult this [link](https://fairgraph.readthedocs.io/en/latest/queries.html)\\\n",
    "Let's see an example.\n",
    "\n",
    "Run this cell to obtain datasets having \"neurons\" in their name: "
   ]
  },
  {
   "cell_type": "code",
   "execution_count": null,
   "metadata": {},
   "outputs": [],
   "source": [
    "datasets = DatasetVersion.list(kg_client, name=\"neurons\") \n",
    "for dataset in datasets: \n",
    "    print(dataset.name)"
   ]
  },
  {
   "cell_type": "markdown",
   "metadata": {},
   "source": [
    "Let's try \"patch-clamp\" technique:"
   ]
  },
  {
   "cell_type": "code",
   "execution_count": null,
   "metadata": {},
   "outputs": [],
   "source": [
    "datasets = DatasetVersion.list(kg_client, name=\"patch-clamp\") \n",
    "for dataset in datasets: \n",
    "    print(dataset.name)"
   ]
  },
  {
   "cell_type": "markdown",
   "metadata": {},
   "source": [
    "As you see, you can obtain datasets corresponding to your filter. Fairgrap library is still in development, so queries may not run properly. You can use the [EBRAINS query builder](https://query.kg.ebrains.eu/) to directly build queries and run them on the KG. For more information regarding this tool, click [here](https://docs.kg.ebrains.eu/)."
   ]
  },
  {
   "cell_type": "markdown",
   "metadata": {},
   "source": [
    "**A space just for your notes**: "
   ]
  },
  {
   "cell_type": "markdown",
   "metadata": {},
   "source": []
  },
  {
   "cell_type": "markdown",
   "metadata": {},
   "source": [
    "## 5. Exercise in autonomy"
   ]
  },
  {
   "cell_type": "markdown",
   "metadata": {},
   "source": [
    "For this last part, you will have to reproduce what you have learned in the previous parts. Remember that you can look up schema specifications on the [openMINDS documentation](https://openminds-documentation.readthedocs.io).\n",
    "\n",
    "List of dataset: \n",
    "\n",
    "- 10.25493/YJFW-HPY\n",
    "- 10.25493/VAV5-BXU\n",
    "- 10.25493/CHJG-7QC\n",
    "- 10.25493/M1AQ-3AC\n",
    "- 10.25493/M1V0-WE3\n",
    "- 10.25493/3NTS-Q0B\n",
    "- 10.25493/JNFA-HDP\n",
    "- 10.25493/5GE0-6MF\n"
   ]
  },
  {
   "cell_type": "markdown",
   "metadata": {},
   "source": [
    "#### 1. Exercise: Use fairgraph query to find a dataset of interest"
   ]
  },
  {
   "cell_type": "markdown",
   "metadata": {},
   "source": [
    "#### 2. Exercise: Explore the dataset metadata. Can you retrieve the authors? See if there is more datasetversion? Retrieve the date of publication? The publication DOI? You can start with these questions and explore more relevant metadata "
   ]
  },
  {
   "cell_type": "markdown",
   "metadata": {},
   "source": [
    "#### 3. Exercise: Retrieve dataset files. Can you obtain the name of each file? "
   ]
  },
  {
   "cell_type": "markdown",
   "metadata": {},
   "source": [
    "#### 4. Exercise: Download the dataset"
   ]
  },
  {
   "cell_type": "markdown",
   "metadata": {},
   "source": [
    "## 6. Conclusion"
   ]
  },
  {
   "cell_type": "markdown",
   "metadata": {},
   "source": [
    "This jupyter notebook is part of the learning material for the EBRAINS users day in Heidelberg, Germany. This is an open introductory ressource presenting the use of Ebrains Knowlegde Graph and open science tools like Fairgraph library and OpenMINDS schemas. Throughout this tutorial, you have learn how to search on the EBRAINS search website, how to find your authorization token for creating your kg_client, important for using Fairgraph. You also learnt how to use the EBRAINS jupyter lab and how to git clone from GitHub repository. You have been introduce to in-depth metadata and queries search. This tutorial is a part of three tutorials about the EBRAINS Knowledge Graph and its uses. Two others tutorials, extended and advanced are available in the [tutorial wiki]( https://wiki.ebrains.eu/bin/view/Collabs/documentation/tutorials/ ) or on Github NeuroPSI-Neuroinformatics or apdavison "
   ]
  }
 ],
 "metadata": {
  "kernelspec": {
   "display_name": "Python 3 (ipykernel)",
   "language": "python",
   "name": "python3"
  },
  "language_info": {
   "codemirror_mode": {
    "name": "ipython",
    "version": 3
   },
   "file_extension": ".py",
   "mimetype": "text/x-python",
   "name": "python",
   "nbconvert_exporter": "python",
   "pygments_lexer": "ipython3",
   "version": "3.8.13"
  }
 },
 "nbformat": 4,
 "nbformat_minor": 4
}
