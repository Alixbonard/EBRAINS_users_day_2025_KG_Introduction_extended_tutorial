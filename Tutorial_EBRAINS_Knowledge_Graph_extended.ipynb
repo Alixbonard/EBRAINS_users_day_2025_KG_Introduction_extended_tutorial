{
 "cells": [
  {
   "cell_type": "markdown",
   "metadata": {},
   "source": [
    "# The EBRAINS Knowledge Graph​\n",
    "\n",
    "### Extended tutorial \n",
    "\n",
    "Alix E.Bonard, Laura Morel, Peyman Najafi and Andrew P. Davison \n",
    "\n",
    "NeuroSPI Paris-Saclay Institute of Neuroscience , CNRS, Université Paris-Saclay, France.\n"
   ]
  },
  {
   "cell_type": "markdown",
   "metadata": {},
   "source": [
    "### Table of contents: \n",
    "\n",
    "- Hands-on case study: Figure reproduction with and without metadata \n",
    "-  \n",
    "- Explore the datafile \n",
    "- Reproduce the figure 4C from [The microcircuits of striatum in silico. Proceedings of the National Academy of Sciences](https://www.pnas.org/doi/full/10.1073/pnas.2000671117)  without metadata\n",
    "- Reproduce the same figure 4C with metadata\n",
    "\n",
    "- Hands-on a learning resource: Salgueiro-Peirera-Marie-2018 (optional)\n",
    "- Explore the KG Search to find a dataset with fairgraph queries find the Salgueiro Pererra Marie case study \n",
    "- Follow the case study \n",
    "\n",
    "\n"
   ]
  },
  {
   "cell_type": "markdown",
   "metadata": {},
   "source": [
    "## Introduction"
   ]
  },
  {
   "cell_type": "markdown",
   "metadata": {},
   "source": [
    "This tutorial is the continuation of the tutorial EBRAINS Knowledge Graph introductory. Please see this tutorial before going throught this jupyter notebook.\n",
    "In the previous tutorial, you learnt how to search, retrieve and download datasets and metadata. \n",
    "The aim of this tutorial is to show how to reuse data with in-depth metadata. This aim follows the FAIR principle of Reusability. Therefore, you will learn how to use in-depth metadata in the frame of data reuse by reproducing figure with and without metadata. you will also be introduce to the package Neo since this tutorial focus on electrophysiological dataset specifically whole cell patch clamp datasets.\n",
    "\n",
    "**Reusability principle - According to  the GO FAIR Foundation:**\n",
    "\n",
    "*\"The ultimate goal of FAIR is to optimise the reuse of data. To achieve this, metadata and data should be well-described so that they can be replicated and/or combined in different settings.*\n",
    "\n",
    "*R1. (Meta)data are richly described with a plurality of accurate and relevant attributes*\n",
    "\n",
    "*R1.1. (Meta)data are released with a clear and accessible data usage license*\n",
    "\n",
    "*R1.2. (Meta)data are associated with detailed provenance*\n",
    "\n",
    "*R1.3. (Meta)data meet domain-relevant community standards\"*\n",
    "\n",
    "\n",
    "Most of the exercises are made to be done in autonomy.\n",
    "For the EBRAINS users day, tutors suggest to do this tutorial in pairs.\n",
    "\n"
   ]
  },
  {
   "cell_type": "markdown",
   "metadata": {},
   "source": [
    "## 1. Finding a dataset with fairgraph queries"
   ]
  },
  {
   "cell_type": "markdown",
   "metadata": {},
   "source": [
    "### **Authentication / authorization**\n"
   ]
  },
  {
   "cell_type": "markdown",
   "metadata": {},
   "source": [
    "As presented in the tutorial_EBRAINS_Knowledge_Graoh_extended.ipynb, you need a kg_client to access retrieve information from the EBRAINS KG "
   ]
  },
  {
   "cell_type": "markdown",
   "metadata": {},
   "source": [
    "1. #### kg_client with: JupyterLab "
   ]
  },
  {
   "cell_type": "code",
   "execution_count": null,
   "metadata": {},
   "outputs": [],
   "source": [
    "from fairgraph import KGClient\n",
    "\n",
    "kg_client = KGClient(host=\"core.kg.ebrains.eu\", token=clb_oauth.get_token()) # if you want to have access to your EBRAINS token `token=clb_oauth.get_token()`"
   ]
  },
  {
   "cell_type": "markdown",
   "metadata": {},
   "source": [
    "2. #### kg_client with: Local system"
   ]
  },
  {
   "cell_type": "markdown",
   "metadata": {},
   "source": [
    "You can have access to your token in the [KG Editor](https://editor.kg.ebrains.eu/) in your profile button (copy token to clipboard)"
   ]
  },
  {
   "cell_type": "code",
   "execution_count": null,
   "metadata": {},
   "outputs": [],
   "source": [
    "# in a local terminal: \n",
    "\n",
    "# cd <folder where the tutorial is> # change the directory where the tutorial file is saved.\n",
    "# export KG_AUTH_TOKEN=<paste the token> (e.g. 'eyJhbGci...nPq') \n",
    "# \n",
    "\n",
    "! pip install fairgraph # to install fairgraph in your python environment \n",
    "\n",
    "# in your jupyter notebook:\n",
    "\n",
    "from fairgraph import KGClient\n",
    "import os \n",
    "\n",
    "#kg_token = os.environ['KG_AUTH_TOKEN'] \n",
    "#kg_client = KGClient(host=\"core.kg.ebrains.eu\",token=kg_token) \n",
    "\n",
    "# alternative approach 1:\n",
    "# run in an another cell - get the token everytime you need \n",
    "# kg_token = KGClient(host='core.kg.ebrains.eu').user_info()\n",
    "\n",
    "# alternative approach 2: \n",
    "# copy your token from the KG Editor directly in the jupyter notebook as below\n",
    "kg_token = \"eyJ...og\"\n",
    "kg_client = KGClient(host=\"core.kg.ebrains.eu\",token=kg_token) \n"
   ]
  },
  {
   "cell_type": "markdown",
   "metadata": {},
   "source": [
    "### **Fairgraph Query**"
   ]
  },
  {
   "cell_type": "markdown",
   "metadata": {},
   "source": [
    "You need to retrieve a dataset related to striatal interneurons with low spiking threshold with `DatasetVersion.list`"
   ]
  },
  {
   "cell_type": "code",
   "execution_count": null,
   "metadata": {},
   "outputs": [],
   "source": [
    "\"Paste your code here\""
   ]
  },
  {
   "cell_type": "markdown",
   "metadata": {},
   "source": [
    "### **Download the dataset**"
   ]
  },
  {
   "cell_type": "markdown",
   "metadata": {},
   "source": [
    "To be able to use the dataset, you need to download it. You can use the property `download` of DatasetVersion. Don't forget to use follow_links to retrieve the dataset files. "
   ]
  },
  {
   "cell_type": "code",
   "execution_count": null,
   "metadata": {},
   "outputs": [],
   "source": [
    "\"Paste your code here\"\n",
    "\n",
    "\n",
    "\n",
    "with zipfile.ZipFile(dataset_path, \"r\") as z:\n",
    "    z.extractall(\"downloads\")"
   ]
  },
  {
   "cell_type": "markdown",
   "metadata": {},
   "source": [
    "### **Checking the dataset** - Solution"
   ]
  },
  {
   "cell_type": "markdown",
   "metadata": {},
   "source": [
    "Run the following cell to check the dataset and to download it. "
   ]
  },
  {
   "cell_type": "code",
   "execution_count": null,
   "metadata": {},
   "outputs": [],
   "source": [
    "import os\n",
    "import sys\n",
    "sys.path.insert(0, os.path.join(os.getcwd(), \".local\"))\n"
   ]
  },
  {
   "cell_type": "code",
   "execution_count": null,
   "metadata": {
    "tags": []
   },
   "outputs": [],
   "source": [
    "import fairgraph.openminds.core as omcore\n",
    "import logging\n",
    "import warnings\n",
    "import zipfile\n",
    "\n",
    "dataset_version_doi = \"past the dataset DOI\"\n",
    "\n",
    "dataset_versions = omcore.DatasetVersion.list(\n",
    "    kg_client, \n",
    "    digital_identifier__identifier=dataset_version_doi,\n",
    "    follow_links={\"repository\": {\"files\": {}}},\n",
    "    scope=\"any\"\n",
    ")\n",
    "\n",
    "assert len(dataset_versions) == 1  # check: the DOI should be for a single, specific version of the dataset\n",
    "dataset_version = dataset_versions[0]\n",
    "\n",
    "# check we have the correct version of the dataset\n",
    "assert dataset_version.full_name == \"Electrophysiological recordings of striatal low threshold-spiking interneuron\"\n",
    "assert dataset_version.version_identifier == \"v1\"\n",
    "\n",
    "if not os.path.exists(\"downloads\"):  # only download the dataset if it hasn't been downloaded previously\n",
    "    dataset_path = dataset_version.download(\"downloads\", kg_client, accept_terms_of_use=True)[0]\n",
    "else:\n",
    "    dataset_path = \"downloads/hbp-d000007_LTS-ephys_pub.zip\"\n",
    "with zipfile.ZipFile(dataset_path, \"r\") as z:\n",
    "    z.extractall(\"downloads\")"
   ]
  },
  {
   "cell_type": "markdown",
   "metadata": {},
   "source": [
    "\n",
    "## 2. Exploring and visualizing the data\n",
    "\n",
    "### **Exploring the retrieve dataset**\n",
    "\n",
    "The zip file contains 2 datasets: 2019Q3/lts and 2019Q3_NWB/lts. In the following analysis, you will be focusing on the 2019Q3/lts dataset.\n",
    "\n",
    "The dataset contains a number of files with two extensions: *.dat and *.pxp. Original single cell recordings can be find in the folder named original and pre-analazed recordings can be find in the folder named derived. For more information about the folder structure of the dataset see DATA REGISTRY in the Data Descriptor.\n",
    "\n",
    "This dataset corresponds to the experimental results of the Figure 4 of Hjorth et al.2020. One cell is considered. We know from the dataset metadata that these are electrophysiology data, and more specifically that they were obtained with the whole cell patch clamp technique in current clamp mode. For the other figures in the article, the authors provided jupyter notebooks allowing global visualization of the differents current clamp protocols and the relation between currents and membrane potential or frequencies. We will adapt these global analysis to this dataset.\n",
    "\n",
    "First, let's read the first three files:\n",
    "\n",
    "Thanks to the Data Descriptor, we know that the dataset contains two types of files corresponding to currents recording (channel 2) and membrane potential (voltage) recording (channel 3). The prefix can be find directly in the filename. The liquid_junction_potential estimated at 9.5mV has to be subtracted for the analysis.\n"
   ]
  },
  {
   "cell_type": "markdown",
   "metadata": {},
   "source": [
    "**Exercise**: Explore the data descriptor to understand the dataset structure "
   ]
  },
  {
   "cell_type": "markdown",
   "metadata": {},
   "source": [
    "Run the following cells: "
   ]
  },
  {
   "cell_type": "markdown",
   "metadata": {},
   "source": [
    "Initialization"
   ]
  },
  {
   "cell_type": "code",
   "execution_count": null,
   "metadata": {},
   "outputs": [],
   "source": [
    "%matplotlib inline\n",
    "\n",
    "path = 'downloads/2019Q3/lts/derived/Experiment-9862'\n",
    "prefix = 'ECalllong'\n",
    "channels = {'current': 2, 'voltage': 3}\n",
    "liquid_junction_potential = 9.5"
   ]
  },
  {
   "cell_type": "markdown",
   "metadata": {},
   "source": [
    "This function is adapted from the authors folder analysis. The aim is to plot traces by linking the current and membrane potential files corresponding to channel 2 and 3. These channels are initialized above "
   ]
  },
  {
   "cell_type": "code",
   "execution_count": null,
   "metadata": {},
   "outputs": [],
   "source": [
    "import numpy as np\n",
    "import matplotlib.pyplot as plt\n",
    "\n",
    "def plot_traces(path, prefix, protocol, channels, recordings,\n",
    "                vshift=0, title=None, figsize=(12, 8)):\n",
    "\n",
    "    fig, (ax1, ax2) = plt.subplots(2, 1, sharex=True, figsize=figsize)\n",
    "    ax1.set_ylabel('Voltage (mV)')\n",
    "    ax2.set_ylabel('Current (pA)')\n",
    "    ax2.set_xlabel('Time (ms)')\n",
    "    if not title:\n",
    "        title = protocol\n",
    "    fig.suptitle(title)\n",
    "    if len(recordings) > 1:\n",
    "        # set the colors\n",
    "        color_cycle = [plt.cm.Blues(i) \n",
    "                       for i in np.linspace(0.3, 1, len(recordings))**2]\n",
    "        ax1.set_prop_cycle('color', color_cycle)\n",
    "        ax2.set_prop_cycle('color', color_cycle)\n",
    "\n",
    "\n",
    "    for rec in reversed(recordings):\n",
    "\n",
    "        # retrieve the file path for the current\n",
    "        fullname = path + '/' + prefix + '_' + protocol \\\n",
    "            + '_ch' + str(channels['current']) + '_' + str(rec) + '.dat'\n",
    "\n",
    "        # retrieve the time current and current data\n",
    "        data = np.loadtxt(fullname)\n",
    "        time = data[:, 0]\n",
    "        current = data[:, 1]\n",
    "\n",
    "        # retrieve the file path for the membrane potential \n",
    "        fullname = path + '/' + prefix + '_' + protocol \\\n",
    "            + '_ch' + str(channels['voltage']) + '_' + str(rec) + '.dat'\n",
    "        \n",
    "        # retrieve the membrane potential data (i.e. voltage)\n",
    "        data = np.loadtxt(fullname)\n",
    "        voltage = data[:, 1] - vshift\n",
    "\n",
    "        # plot the data\n",
    "        ax1.plot(time, voltage)\n",
    "        ax2.plot(time, current)\n",
    "        \n",
    "    return fig"
   ]
  },
  {
   "cell_type": "markdown",
   "metadata": {},
   "source": [
    "\n",
    "\n",
    "In addition to path and prefix defined above, \"plot_traces\" function takes as arguments:\n",
    "\n",
    "    protocol: indicated in the filename, in this case 'IV'\n",
    "    repetitions: correspond to the number indicated in the filename\n",
    "    title: feature_protocol indicating the protocol vizualized, can be the string as protocol.\n",
    "\n"
   ]
  },
  {
   "cell_type": "markdown",
   "metadata": {},
   "source": [
    "Run the following code and compare with the Figure article. Can you isolate the traces used in the Figure 4B? "
   ]
  },
  {
   "cell_type": "markdown",
   "metadata": {},
   "source": [
    "![image](\"Images\\Figure4B.png\") "
   ]
  },
  {
   "cell_type": "code",
   "execution_count": null,
   "metadata": {},
   "outputs": [],
   "source": [
    "import matplotlib.pyplot as plt"
   ]
  },
  {
   "cell_type": "code",
   "execution_count": null,
   "metadata": {},
   "outputs": [],
   "source": [
    "import os \n",
    "\n",
    "filename_list = os.listdir('downloads/2019Q3/lts/derived/Experiment-9862')\n",
    "repetitions = list(np.unique([int(name.split('_')[-1].split('.')[0]) for name in filename_list])) # gets  the repetition number in filenames\n",
    "protocol = 'IV'\n",
    "vshift = 9.5\n",
    "\n",
    "fig, (ax1, ax2) = plt.subplots(2, 1, sharex=True, figsize=(12,8))\n",
    "ax1.set_ylabel('Voltage (mV)')\n",
    "ax2.set_ylabel('Current (pA)')\n",
    "ax2.set_xlabel('Time (ms)')\n",
    "\n",
    "\n",
    "for rec in repetitions:\n",
    "    fullname = path + '/' + prefix + '_' + protocol \\\n",
    "        + '_ch' + str(channels['current']) + '_' + str(rec) + '.dat'\n",
    "    data = np.loadtxt(fullname)\n",
    "    time = data[:, 0]\n",
    "    current = data[:, 1]\n",
    "\n",
    "    fullname = path + '/' + prefix + '_' + protocol \\\n",
    "        + '_ch' + str(channels['voltage']) + '_' + str(rec) + '.dat'\n",
    "    data = np.loadtxt(fullname)\n",
    "    voltage = data[:, 1] - vshift\n",
    "    ax1.plot(time, voltage, color='tab:blue', alpha=0.4)\n",
    "    ax2.plot(time, current, color='tab:blue', alpha=0.4)\n",
    "    ax1.set_ylabel('Membrane potential (mV)')\n",
    "    ax2.set_ylabel('Currents (pA)')\n",
    "    ax2.set_xlabel('Time(ms)')\n",
    "\n",
    "plt.show()"
   ]
  },
  {
   "cell_type": "markdown",
   "metadata": {},
   "source": [
    "The answer to the previous question should be no. Without clear indications it is almost impossible to reproduce the exact figure quickly. To be able to identify traces used in the figure you need to analyse it one by one which is time consuming "
   ]
  },
  {
   "cell_type": "markdown",
   "metadata": {},
   "source": [
    "With the enrich metadata, you can avoid this problem. Explicitly indicating files used in figures articles in metadata is a solution.\\\n",
    "The authors used folling files: \n",
    "\n",
    "- ECalllong_IV_ch2_699.dat\n",
    "- ECalllong_IV_ch2_700.dat\n",
    "- ECalllong_IV_ch2_701.dat\n",
    "- ECalllong_IV_ch2_701.dat\n",
    "- ECalllong_IV_ch3_699.dat\n",
    "- ECalllong_IV_ch3_700.dat\n",
    "- ECalllong_IV_ch3_701.dat\n",
    "- ECalllong_IV_ch2_716.dat\n",
    "\n",
    "Let's have a look: "
   ]
  },
  {
   "cell_type": "markdown",
   "metadata": {},
   "source": [
    "**Exercice**: Modify the code below in order to reproduce the Figure 4B. "
   ]
  },
  {
   "cell_type": "code",
   "execution_count": null,
   "metadata": {},
   "outputs": [],
   "source": [
    "protocol = 'IV'\n",
    "feature_protocol = 'Figure 4B'\n",
    "repetitions = [[657,658,659]] # corresponding to ECalllong_IV_ch2_657.dat, ECalllong_IV_ch2_658.dat, ECalllong_IV_ch2_659.dat\n",
    "vshift=liquid_junction_potential\n",
    "\n",
    "for recordings in repetitions[0:1]:\n",
    "    fig = plot_traces(path, prefix, protocol, channels, recordings, \n",
    "                      title=feature_protocol + ' (rep %d)' % len(repetitions),\n",
    "                     vshift=liquid_junction_potential)"
   ]
  },
  {
   "cell_type": "markdown",
   "metadata": {},
   "source": [
    "The following code is a acurate version of Figure 4B"
   ]
  },
  {
   "cell_type": "code",
   "execution_count": null,
   "metadata": {},
   "outputs": [],
   "source": [
    "fig, (ax1, ax2) = plt.subplots(2, 1, sharex=False, figsize=(12, 8))\n",
    "\n",
    "repetitions = [699,700,701,716]\n",
    "\n",
    "for rec in repetitions:\n",
    "    fullname = path + '/' + prefix + '_' + protocol \\\n",
    "        + '_ch' + str(channels['current']) + '_' + str(rec) + '.dat'\n",
    "    data = np.loadtxt(fullname)\n",
    "    time = data[:, 0]\n",
    "    current = data[:, 1]\n",
    "    fullname = path + '/' + prefix + '_' + protocol \\\n",
    "        + '_ch' + str(channels['voltage']) + '_' + str(rec) + '.dat'\n",
    "    data = np.loadtxt(fullname)\n",
    "    voltage = data[:, 1] - vshift\n",
    "\n",
    "    ax1.plot(time, voltage, color='r')\n",
    "    ax2.plot(time, current, color='r')\n",
    "\n",
    "    ax1.spines['top'].set_visible(False)\n",
    "    ax1.spines['right'].set_visible(False)\n",
    "    ax1.set_ylim(-90,-70)\n",
    "    ax1.set_xlim(0,1400)\n",
    "    ax1.set_xticks([0, 600, 1200])\n",
    "    ax1.set_xticklabels(['0', '600', '1200'], size = 15)\n",
    "    ax1.set_yticks([-70, -75, -80, -85, -90])\n",
    "    ax1.set_yticklabels(['-70', '-75', '-80', '-85', '-90'], size = 15)\n",
    "    ax1.set_xlabel('Time(ms)', size = 15, loc='center')\n",
    "    ax1.set_ylabel('Membrane potential (mV)', size = 15)\n",
    "\n",
    "\n",
    "    ax2.tick_params(left=False, bottom=False, labelleft=False, labelbottom=False)\n",
    "    ax2.spines['top'].set_visible(False)\n",
    "    ax2.spines['left'].set_visible(False)\n",
    "    ax2.spines['bottom'].set_visible(False)\n",
    "    ax2.spines['right'].set_visible(False)\n",
    "    ax2.text(-150, -30, r'-30 pA', size = 15) \n",
    "    ax2.set_xlim(0,1400)\n",
    "\n",
    "plt.show()"
   ]
  },
  {
   "cell_type": "markdown",
   "metadata": {},
   "source": [
    "### **Reproducing figure without metadata**"
   ]
  },
  {
   "cell_type": "markdown",
   "metadata": {},
   "source": [
    "Now, let's see how you can reproduce a more complex figure. "
   ]
  },
  {
   "cell_type": "markdown",
   "metadata": {},
   "source": [
    "![image](\"Images\\Figure4C.png\") "
   ]
  },
  {
   "cell_type": "markdown",
   "metadata": {},
   "source": [
    "\n",
    "#### Figure 4C\n",
    "\n",
    "\n"
   ]
  },
  {
   "cell_type": "markdown",
   "metadata": {},
   "source": [
    "In order to reproduce this figure, you need to know the current amplitudes and the corresponding membrane potential. It is not indicated. How can you find these information? "
   ]
  },
  {
   "cell_type": "markdown",
   "metadata": {},
   "source": [
    "**Exercise**: Modify the following code to find the current amplitudes "
   ]
  },
  {
   "cell_type": "code",
   "execution_count": null,
   "metadata": {},
   "outputs": [],
   "source": [
    "# Part 1:\n",
    "from math import ceil\n",
    "\n",
    "repetitions = list(np.unique([int(name.split('_')[-1].split('.')[0]) for name in filename_list]))\n",
    "l1 = []\n",
    "l1_current_value = []\n",
    "\n",
    "for rec in repetitions:\n",
    "    fullname = path + '/' + prefix + '_' + protocol\\\n",
    "    + '_ch' + str(channels['current']) + '_' + str(rec) + '.dat'\n",
    "    data = np.loadtxt(fullname)\n",
    "    \n",
    "    time = data[:, 0][900:11200]\n",
    "    current = data[:, 1][900:11200]\n",
    "    \n",
    "    # find the current values\n",
    "    ...\n",
    "    ...\n",
    "    ...\n",
    "    \n",
    "    l1.append(mean_ceil)\n",
    "    l1_current_value = list(np.unique(l1))\n",
    "\n",
    "    plt.plot(time,current, 'tab:blue', alpha=0.1, zorder = 1)\n",
    "    plt.plot(time,mean_y, linewidth = 3, zorder = 2)\n",
    "    plt.yticks(l1_current_value)\n",
    "    plt.xlabel('Time (ms)')\n",
    "    plt.ylabel('Currents (pA)')"
   ]
  },
  {
   "cell_type": "code",
   "execution_count": null,
   "metadata": {},
   "outputs": [],
   "source": [
    "# Solution: \n",
    "\n",
    "mean_y = [np.mean(current)] * len(time)\n",
    "mean_ceil = ceil(mean_y[0])\n"
   ]
  },
  {
   "cell_type": "markdown",
   "metadata": {},
   "source": [
    "Now that the current amplitudes values are known. You must retrieve the corresponding membrane potential files.The following code creates a dictionary. Keys are current amplitudes values index (0 corresponds to 1, 1 corresponds to -8, 2 corresponds to -27 ...) and values are membrane potential values"
   ]
  },
  {
   "cell_type": "code",
   "execution_count": null,
   "metadata": {},
   "outputs": [],
   "source": [
    "# Part 2:\n",
    "VI = {}\n",
    "for index in range(0,len(np.unique(l1_current_value))):\n",
    "    VI[f'{index}'] =[] # index correspond\n",
    "\n",
    "for rec in repetitions:\n",
    "    for index in range(0,len(l1_current_value)):\n",
    "        fullname_current = path + '/' + prefix + '_' + protocol\\\n",
    "        + '_ch' + str(channels['current']) + '_' + str(rec) + '.dat'\n",
    "        fullname_voltage = path + '/' + prefix + '_' + protocol\\\n",
    "        + '_ch' + str(channels['voltage']) + '_' + str(rec) + '.dat'\n",
    "\n",
    "        data_current = np.loadtxt(fullname_current)\n",
    "        time = data_current[:, 0][900:11200]\n",
    "        current = data_current[:, 1][900:11200]\n",
    "        \n",
    "        data_voltage = np.loadtxt(fullname_voltage)\n",
    "        voltage = data_voltage[:, 1][900:11200]- liquid_junction_potential\n",
    "\n",
    "        mean = np.mean(current)\n",
    "        mean_ceil = ceil(mean)\n",
    "        if mean_ceil == l1_current_value[index]:\n",
    "            VI[f'{index}'].append(voltage)"
   ]
  },
  {
   "cell_type": "markdown",
   "metadata": {},
   "source": [
    "To understand it better. You can visualised the number of membrane potential traces corresponding to a current amplitude in the all dataset. "
   ]
  },
  {
   "cell_type": "code",
   "execution_count": null,
   "metadata": {},
   "outputs": [],
   "source": [
    " # Part 3:\n",
    "values_VI = {}\n",
    "for keys in VI.keys():\n",
    "    values_VI[f'{keys}'] =[]\n",
    "\n",
    "    for k in range(0,len(VI[keys])):\n",
    "        values_VI[f'{keys}'].append(VI[keys][k])\n",
    "for i in range(0,len(l1_current_value)):\n",
    "    plt.scatter(l1_current_value[i], len(values_VI[str(i)]), color='tab:blue')\n",
    "    plt.ylim(0,10)\n",
    "    plt.xticks(l1_current_value)\n",
    "    plt.yticks([0,1,2,3,4,5,6,7,8,9,10])\n",
    "    plt.xlabel('Currents (pA)')\n",
    "    plt.ylabel('Number of membrane potential traces')"
   ]
  },
  {
   "cell_type": "markdown",
   "metadata": {},
   "source": [
    "Finally, we can reproduce the figure 4C. You can run these lines of code to visualise the reproduction of the figure 4C"
   ]
  },
  {
   "cell_type": "code",
   "execution_count": null,
   "metadata": {},
   "outputs": [],
   "source": [
    "# Part 4:\n",
    "voltage_list = []\n",
    "current_list = []\n",
    "l1_mean_voltage = []\n",
    "\n",
    "for key in values_VI:\n",
    "    mean_voltage =  np.mean(values_VI[key])\n",
    "    l1_mean_voltage.append(mean_voltage)\n",
    "\n",
    "    for index in range(0,len(values_VI[key])):\n",
    "        \n",
    "        voltage_list.append(np.mean(values_VI[key][index]))\n",
    "        current_list.append((l1_current_value)[int(key)])\n",
    "\n",
    "plt.figure()\n",
    "plt.scatter(current_list,voltage_list)\n",
    "plt.plot(l1_current_value,l1_mean_voltage, '--', color = 'tab:blue')\n",
    "plt.xlabel('Currents (pA)')\n",
    "plt.ylabel('Membrane potential (mV)')\n",
    "plt.xticks(l1_current_value)\n",
    "plt.show()"
   ]
  },
  {
   "cell_type": "code",
   "execution_count": null,
   "metadata": {},
   "outputs": [],
   "source": [
    "# Part 5:\n",
    "plt.figure(figsize=(12, 8))\n",
    "plt.scatter(current_list[:36],voltage_list[:36], color ='r')\n",
    "plt.plot(l1_current_value[0:4],l1_mean_voltage[0:4], '--', color = 'tab:red')\n",
    "plt.xlabel('Currents (pA)', size = 15)\n",
    "plt.ylabel('Membrane potential (mV)', size = 15)\n",
    "plt.gca().spines['top'].set_visible(False)\n",
    "plt.gca().spines['right'].set_visible(False)\n",
    "plt.gca().set_yticks([-84, -82, -78, -74, -70])\n",
    "plt.gca().set_yticklabels(['-84', '-82', '-78', '-74', '-70'], size = 15)\n",
    "plt.gca().set_xticks([-60, -55, -50, -45, -40, -35, -30, -25])\n",
    "plt.gca().set_xticklabels(['-60', '', '-50', '', '-40', '', '-30', ''], size = 15)\n",
    "plt.ylim(-87,-70)\n",
    "plt.xlim(-60,-25)\n",
    "\n",
    "plt.show()"
   ]
  },
  {
   "cell_type": "markdown",
   "metadata": {},
   "source": [
    "### **Reproducing figure with metadata**"
   ]
  },
  {
   "cell_type": "markdown",
   "metadata": {},
   "source": [
    "With metadata some step presented above can be skip. Let's have a look. \n",
    "The first step was to find current amplitudes values. This step could be very challenging if you don't know how to start and retrieve information as currents. With metadata, you can have a beginning of information that guides you toward figure reproduction. This dataset is quite challenging, therefore, you still need to go through all the membrane potential retrieving steps. However, it is simplifying the process. "
   ]
  },
  {
   "cell_type": "markdown",
   "metadata": {},
   "source": [
    "### Retrieving in-depth metadata "
   ]
  },
  {
   "cell_type": "markdown",
   "metadata": {},
   "source": [
    "The aim of this part, is to show you why metadata are important for data reuse and how we can use them.\\\n",
    "This part might be scary for some of you. In the future, the in-depth curation team will provide more tutorials to retrieve in-depth metadata. This part is an example of in-depth metadata retrieving. If you want to play around, do. If you don't want, just run the code. \n",
    "\n",
    "The objective is to retrieve the current amplitudes. "
   ]
  },
  {
   "cell_type": "code",
   "execution_count": null,
   "metadata": {},
   "outputs": [],
   "source": [
    "import fairgraph.openminds.core as omcore\n",
    "import fairgraph.openminds.stimulation as omstim\n",
    "import fairgraph.openminds.ephys as ephys\n",
    "import json\n",
    "\n",
    "\n",
    "follow_links = {\"has_parts\" : {}} # create a short cut with dataset_version and stimulation activity\n",
    "\n",
    "dataset_version = omcore.DatasetVersion.list(kg_client, digital_identifier__identifier = '10.25493/5GE0-6MF', follow_links = follow_links, suppress_warnings=True)[0]\n",
    "\n",
    "# Part 1: in-depth metadata retrieving\n",
    "\n",
    "stimulation_activities = [part for part in dataset_version.has_parts if isinstance(part, omstim.StimulationActivity)] # We get the StimulationActivity instances linked to dataset_version\n",
    "stimuli = []\n",
    "\n",
    "for stimulation_activity in stimulation_activities:\n",
    "# We find every unique EphysStimulus associated with the dataset\n",
    "    stimulus = stimulation_activity.stimuli.resolve(kg_client)\n",
    "    if stimulus not in stimuli:\n",
    "        stimuli.append(stimulus)\n",
    "# print(stimuli)\n",
    "\n",
    "specification_json = stimuli[0].specifications.resolve(kg_client).configuration # We retrieve the configuration in JSON format\n",
    "specification = json.loads(specification_json) # We convert the JSON string into a python dictionary\n",
    "l1_current_value = specification[\"amplitudes\"]\n",
    "print(f'current amplitudes: {l1_current_value}')"
   ]
  },
  {
   "cell_type": "markdown",
   "metadata": {},
   "source": [
    "You obtained the current amplitudes saved in the KG !\\\n",
    "Now you can re-run all the code above to create the figure. "
   ]
  },
  {
   "cell_type": "code",
   "execution_count": null,
   "metadata": {},
   "outputs": [],
   "source": [
    "# Part 2:\n",
    "VI = {}\n",
    "for index in range(0,len(np.unique(l1_current_value))):\n",
    "    VI[f'{index}'] =[] \n",
    "\n",
    "for rec in repetitions:\n",
    "    for index in range(0,len(l1_current_value)):\n",
    "        fullname_current = path + '/' + prefix + '_' + protocol\\\n",
    "        + '_ch' + str(channels['current']) + '_' + str(rec) + '.dat'\n",
    "        fullname_voltage = path + '/' + prefix + '_' + protocol\\\n",
    "        + '_ch' + str(channels['voltage']) + '_' + str(rec) + '.dat'\n",
    "\n",
    "        data_current = np.loadtxt(fullname_current)\n",
    "        time = data_current[:, 0][900:11200]\n",
    "        current = data_current[:, 1][900:11200]\n",
    "        \n",
    "        data_voltage = np.loadtxt(fullname_voltage)\n",
    "        voltage = data_voltage[:, 1][900:11200]- liquid_junction_potential\n",
    "\n",
    "        mean = np.mean(current)\n",
    "        mean_ceil = ceil(mean)\n",
    "        if mean_ceil == l1_current_value[index]:\n",
    "            VI[f'{index}'].append(voltage)\n",
    "            \n",
    "# Part 3:          \n",
    "values_VI = {}\n",
    "for keys in VI.keys():\n",
    "    values_VI[f'{keys}'] =[]\n",
    "\n",
    "    for k in range(0,len(VI[keys])):\n",
    "        values_VI[f'{keys}'].append(VI[keys][k])\n",
    "        \n",
    "for i in range(0,len(l1_current_value)):\n",
    "    plt.scatter(l1_current_value[i], len(values_VI[str(i)]), color='tab:blue')\n",
    "    plt.ylim(0,10)\n",
    "    plt.xticks(l1_current_value)\n",
    "    plt.yticks([0,1,2,3,4,5,6,7,8,9,10])\n",
    "    plt.xlabel('Currents (pA)')\n",
    "    plt.ylabel('Number of membrane potential traces')\n",
    "\n",
    "# Part 4:\n",
    "voltage_list = []\n",
    "current_list = []\n",
    "l1_mean_voltage = []\n",
    "\n",
    "for key in values_VI:\n",
    "    mean_voltage =  np.mean(values_VI[key])\n",
    "    l1_mean_voltage.append(mean_voltage)\n",
    "\n",
    "    for index in range(0,len(values_VI[key])):\n",
    "        \n",
    "        voltage_list.append(np.mean(values_VI[key][index]))\n",
    "        current_list.append((l1_current_value)[int(key)])\n",
    "\n",
    "plt.figure()\n",
    "plt.scatter(current_list,voltage_list)\n",
    "plt.plot(l1_current_value,l1_mean_voltage, '--', color = 'tab:blue')\n",
    "plt.xlabel('Currents (pA)')\n",
    "plt.ylabel('Membrane potential (mV)')\n",
    "plt.xticks(l1_current_value)\n",
    "plt.show()\n",
    "\n",
    "# Part 5:\n",
    "plt.figure(figsize=(12, 8))\n",
    "plt.scatter(current_list[:36],voltage_list[:36], color ='r')\n",
    "plt.plot(l1_current_value[0:4],l1_mean_voltage[0:4], '--', color = 'tab:red')\n",
    "plt.xlabel('Currents (pA)', size = 15)\n",
    "plt.ylabel('Membrane potential (mV)', size = 15)\n",
    "plt.gca().spines['top'].set_visible(False)\n",
    "plt.gca().spines['right'].set_visible(False)\n",
    "plt.gca().set_yticks([-84, -82, -78, -74, -70])\n",
    "plt.gca().set_yticklabels(['-84', '-82', '-78', '-74', '-70'], size = 15)\n",
    "plt.gca().set_xticks([-60, -55, -50, -45, -40, -35, -30, -25])\n",
    "plt.gca().set_xticklabels(['-60', '', '-50', '', '-40', '', '-30', ''], size = 15)\n",
    "plt.ylim(-87,-70)\n",
    "plt.xlim(-60,-25)\n",
    "\n",
    "plt.show()"
   ]
  },
  {
   "cell_type": "markdown",
   "metadata": {},
   "source": [
    "## 3. Conclusion \n",
    "\n",
    "This tutorial was made to show how to reuse data with in-depth metadata. You re-engaged knowledge from the Introductory tutorial, learnt how to retrieve in-depth metadata and should be more familiar with metadata and data retrieving. As explained, more tutorial about in-depth metadata will be available soon. This is an introduction to open science tools and concept created in EBRAINS. "
   ]
  }
 ],
 "metadata": {
  "kernelspec": {
   "display_name": "Python 3 (ipykernel)",
   "language": "python",
   "name": "python3"
  },
  "language_info": {
   "codemirror_mode": {
    "name": "ipython",
    "version": 3
   },
   "file_extension": ".py",
   "mimetype": "text/x-python",
   "name": "python",
   "nbconvert_exporter": "python",
   "pygments_lexer": "ipython3",
   "version": "3.8.13"
  }
 },
 "nbformat": 4,
 "nbformat_minor": 4
}
